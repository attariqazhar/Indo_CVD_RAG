{
 "cells": [
  {
   "cell_type": "markdown",
   "metadata": {},
   "source": [
    "# Import Library"
   ]
  },
  {
   "cell_type": "code",
   "execution_count": 1,
   "metadata": {},
   "outputs": [],
   "source": [
    "import os\n",
    "import json\n",
    "import pandas as pd\n",
    "from dotenv import load_dotenv\n",
    "from uuid import uuid4\n",
    "\n",
    "# Vector DB\n",
    "from qdrant_client import QdrantClient\n",
    "from qdrant_client.http.models import Distance, VectorParams, PointStruct\n",
    "from langchain_core.documents import Document\n",
    "\n",
    "# Embedding Model\n",
    "from langchain_ollama import OllamaEmbeddings"
   ]
  },
  {
   "cell_type": "markdown",
   "metadata": {},
   "source": [
    "# Document Preparation"
   ]
  },
  {
   "cell_type": "code",
   "execution_count": 2,
   "metadata": {},
   "outputs": [],
   "source": [
    "def get_json_document(file_path):\n",
    "    '''\n",
    "    Args:\n",
    "        file_path (str): Path to the JSON file containing the data\n",
    "    \n",
    "    Returns:\n",
    "        data (list): List of dictionaries containing the data from the JSON file\n",
    "    '''\n",
    "\n",
    "    with open(file_path) as f:\n",
    "        data = json.load(f)\n",
    "    return data\n"
   ]
  },
  {
   "cell_type": "markdown",
   "metadata": {},
   "source": [
    "# Store Document to Qdrant"
   ]
  },
  {
   "cell_type": "markdown",
   "metadata": {},
   "source": [
    "### Embedding Model"
   ]
  },
  {
   "cell_type": "code",
   "execution_count": null,
   "metadata": {},
   "outputs": [],
   "source": [
    "def get_embedding_model(model_name):\n",
    "    '''\n",
    "    Args:\n",
    "        model_name (str): Name of the model to be used for embeddings\n",
    "    \n",
    "    Returns:\n",
    "        embeddings (OllamaEmbeddings): Embedding model object\n",
    "    '''\n",
    "\n",
    "    embeddings = OllamaEmbeddings(\n",
    "        model=model_name,\n",
    "    )\n",
    "    return embeddings\n",
    "\n",
    "def encode_text(embeddings, text):\n",
    "    '''\n",
    "    Args:\n",
    "        embeddings (OllamaEmbeddings): Embedding model object\n",
    "        text (str): Text to be encoded\n",
    "\n",
    "    Returns:\n",
    "        np.array: Encoded vector for the input text\n",
    "    '''\n",
    "    \n",
    "    # Melakukan embedding pada teks\n",
    "    return embeddings.embed_query(text)\n",
    "\n",
    "def add_vector(documents, embeddings):\n",
    "    '''\n",
    "    Args:\n",
    "        documents (list): List of dictionaries containing the data\n",
    "        embeddings (OllamaEmbeddings): embedding model\n",
    "\n",
    "    Returns:\n",
    "        documents (list): List of dictionaries containing the data with added vector embedding\n",
    "    '''\n",
    "\n",
    "    # Menambahkan vector embedding ke setiap dokumen\n",
    "    for doc in documents:\n",
    "        doc['id'] = str(uuid4())\n",
    "        doc['vector'] = encode_text(embeddings, doc['content'])\n",
    "    return documents\n",
    "\n",
    "def get_documents_with_vector(file_path, model_name):\n",
    "    '''\n",
    "    Args:\n",
    "        file_path (str): Path to the JSON file containing the data\n",
    "        model_name (str): Name of the model to be used for embeddings\n",
    "\n",
    "    Returns:\n",
    "        documents (list): List of dictionaries containing the data with added vector embedding\n",
    "    '''\n",
    "\n",
    "    documents = get_json_document(file_path)\n",
    "    embeddings = get_embedding_model(model_name)\n",
    "    documents = add_vector(documents, embeddings)\n",
    "    return documents"
   ]
  },
  {
   "cell_type": "markdown",
   "metadata": {},
   "source": [
    "### Creating Database"
   ]
  },
  {
   "cell_type": "code",
   "execution_count": 4,
   "metadata": {},
   "outputs": [],
   "source": [
    "def instantiate_database(collection_name, embedding_model):\n",
    "    '''\n",
    "    Returns:\n",
    "        client (QdrantClient): QdrantClient object\n",
    "        embedding_model (OllamaEmbeddings): Embedding model object\n",
    "    '''\n",
    "\n",
    "    # Mengakses Qdrant Client menggunakan API yang sudah dibuat sebelumnya\n",
    "    load_dotenv(override=True)\n",
    "    client = QdrantClient(url=os.getenv(\"QDRANT_URL\"), api_key=os.getenv(\"QDRANT_API_KEY\"))\n",
    "\n",
    "    # Mengambil ukuran embedding dari model yang digunakan\n",
    "    embedding_size = len(encode_text(embedding_model, 'test'))\n",
    "    \n",
    "    # Membuat collection di Qdrant\n",
    "    client.create_collection(\n",
    "        collection_name=collection_name,\n",
    "        vectors_config=VectorParams(size=embedding_size, distance=Distance.COSINE),\n",
    "    )\n",
    "\n",
    "    client.create_payload_index(\n",
    "        collection_name=collection_name,\n",
    "        field_name=\"topic\",\n",
    "        field_schema=\"keyword\"\n",
    "    )\n",
    "\n",
    "    return client"
   ]
  },
  {
   "cell_type": "markdown",
   "metadata": {},
   "source": [
    "### Store Text and Vector to Database"
   ]
  },
  {
   "cell_type": "code",
   "execution_count": 5,
   "metadata": {},
   "outputs": [],
   "source": [
    "def add_document(client, collection_name, doc):\n",
    "    '''\n",
    "    Args:\n",
    "        client (QdrantVectorStore): Vector store object\n",
    "        collection_name (str): Name of the collection to store the documents in\n",
    "        doc: JSON document to be stored\n",
    "    '''\n",
    "\n",
    "    # Menyimpan dokumen ke dalam Qdrant\n",
    "    client.upsert(\n",
    "        collection_name=collection_name,\n",
    "        points=[PointStruct(id=doc['id'], vector=doc['vector'], payload={\"topic\":doc['topic'], \"subtopic\":doc['subtopic'], \"text\":doc['content'], \"source\":doc['url']})]\n",
    "    )\n",
    "\n",
    "def store_documents(client, collection_name, documents):\n",
    "    '''\n",
    "    Args:\n",
    "        client (QdrantVectorStore): Vector store object\n",
    "        collection_name (str): Name of the collection to store the documents in\n",
    "        documents (list): List of Document objects\n",
    "    '''\n",
    "\n",
    "    # Menyimpan kumpulan dokumen ke dalam Qdrant\n",
    "    for doc in documents:\n",
    "        add_document(client, collection_name, doc)\n",
    "    print(\"Documents stored successfully\")"
   ]
  },
  {
   "cell_type": "markdown",
   "metadata": {},
   "source": [
    "# Indexing Pipeline"
   ]
  },
  {
   "cell_type": "code",
   "execution_count": 20,
   "metadata": {},
   "outputs": [],
   "source": [
    "def indexing_pipeline(file_path, model_name, document_name, collection_name):\n",
    "    '''\n",
    "    Args:\n",
    "        file_path (str): Path to the JSON file containing the data\n",
    "        model_name (str): Name of the model to be used for embeddings\n",
    "        document_name (str): Name of the document to be exported\n",
    "        collection_name (str): Name of the collection to store the documents in\n",
    "\n",
    "    Returns:\n",
    "        None\n",
    "    '''\n",
    "\n",
    "    documents = get_documents_with_vector(file_path, model_name)\n",
    "\n",
    "    # Menyimpan backup metadata dokumen (tanpa vector)\n",
    "    doc_path = os.path.join('../../../data/backup', document_name)\n",
    "    with open(doc_path, 'w') as f:\n",
    "        json.dump(documents, f, indent=4)\n",
    "    print(\"Documents exported to\", document_name)\n",
    "\n",
    "    # Instantiasi database\n",
    "    client = instantiate_database(collection_name, get_embedding_model(model_name))\n",
    "    print(\"Database instantiated successfully\")\n",
    "    \n",
    "    # Menyimpan dokumen ke dalam database\n",
    "    store_documents(client, collection_name, documents)"
   ]
  },
  {
   "cell_type": "markdown",
   "metadata": {},
   "source": [
    "# Pipeline Execution"
   ]
  },
  {
   "cell_type": "code",
   "execution_count": 21,
   "metadata": {},
   "outputs": [
    {
     "name": "stdout",
     "output_type": "stream",
     "text": [
      "Storing documents to cvd_collection_v1 using 'nomic-embed-text' model...\n",
      "Documents exported to documents_v1.json\n",
      "Database instantiated successfully\n",
      "Documents stored successfully\n",
      "\n",
      "\n",
      "Storing documents to cvd_collection_v2 using 'mxbai-embed-large' model...\n",
      "Documents exported to documents_v2.json\n",
      "Database instantiated successfully\n",
      "Documents stored successfully\n",
      "\n",
      "\n"
     ]
    }
   ],
   "source": [
    "def main():\n",
    "\n",
    "    # Instantiasi file path yang digunakan untuk menyimpan dokumen\n",
    "    file_path = '../../../data/cvd_prepared.json'\n",
    "\n",
    "    # Load file konfigurasi untuk Qdrant\n",
    "    with open('../../../config/vectordb_configs.json') as f:\n",
    "        configs = json.load(f)\n",
    "\n",
    "    # Melakukan penyimpanan dokumen ke dalam Qdrant\n",
    "    for config in configs:\n",
    "        document_name = config['backup_file_name']\n",
    "        model_name = config['embedding_model']\n",
    "        collection_name = config['collection']\n",
    "\n",
    "        print(f\"Storing documents to {collection_name} using '{model_name}' model...\")\n",
    "\n",
    "        # Menjalankan pipeline indexing\n",
    "        indexing_pipeline(file_path, model_name, document_name, collection_name)\n",
    "\n",
    "main()"
   ]
  }
 ],
 "metadata": {
  "kernelspec": {
   "display_name": "Python 3",
   "language": "python",
   "name": "python3"
  },
  "language_info": {
   "codemirror_mode": {
    "name": "ipython",
    "version": 3
   },
   "file_extension": ".py",
   "mimetype": "text/x-python",
   "name": "python",
   "nbconvert_exporter": "python",
   "pygments_lexer": "ipython3",
   "version": "3.9.21"
  }
 },
 "nbformat": 4,
 "nbformat_minor": 2
}
