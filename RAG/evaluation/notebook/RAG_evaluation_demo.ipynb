{
 "cells": [
  {
   "cell_type": "markdown",
   "metadata": {},
   "source": [
    "# Import Library"
   ]
  },
  {
   "cell_type": "code",
   "execution_count": 2,
   "metadata": {},
   "outputs": [],
   "source": [
    "import pandas as pd\n",
    "import sys\n",
    "import os\n",
    "from dotenv import load_dotenv\n",
    "from datasets import Dataset\n",
    "import json\n",
    "import time\n",
    "\n",
    "# RAG Evaluation (RAGAS)\n",
    "from ragas.metrics import faithfulness, answer_relevancy, context_precision, context_recall\n",
    "from ragas import evaluate\n",
    "from ragas.llms import LangchainLLMWrapper\n",
    "from ragas.embeddings import LangchainEmbeddingsWrapper\n",
    "\n",
    "# LLM\n",
    "from langchain_ollama.llms import OllamaLLM\n",
    "from langchain_ollama import OllamaEmbeddings\n",
    "from langchain_openai import ChatOpenAI\n",
    "from langchain_openai.embeddings import OpenAIEmbeddings\n",
    "\n",
    "# Pipeline\n",
    "pipeline_path = os.path.abspath('../../pipeline')\n",
    "if pipeline_path not in sys.path:\n",
    "    sys.path.append(pipeline_path)\n",
    "from retrieval_generation_pipeline import hypothesis_pipeline, retrieval_pipeline, generation_pipeline"
   ]
  },
  {
   "cell_type": "markdown",
   "metadata": {},
   "source": [
    "# Load Dataset"
   ]
  },
  {
   "cell_type": "code",
   "execution_count": 2,
   "metadata": {},
   "outputs": [],
   "source": [
    "def load_evaluation_dataset(file_path):\n",
    "    \"\"\"\n",
    "    Args:\n",
    "        file_path (str): Path to the evaluation dataset CSV file.\n",
    "    \n",
    "    Returns:\n",
    "        evaluation_dataset (pd.DataFrame): DataFrame containing the evaluation dataset.\n",
    "    \"\"\"\n",
    "\n",
    "    # Mengambil data dari file CSV\n",
    "    evaluation_dataset = pd.read_csv(file_path)\n",
    "\n",
    "    return evaluation_dataset"
   ]
  },
  {
   "cell_type": "markdown",
   "metadata": {},
   "source": [
    "# Generate Answer Dataset"
   ]
  },
  {
   "cell_type": "code",
   "execution_count": 3,
   "metadata": {},
   "outputs": [],
   "source": [
    "def generate_answer_dataset(url, api_key, collection_name, embedding_model_name, llm_name, eval_dataset, hyde=False):\n",
    "    '''\n",
    "    Args:\n",
    "        url (str): URL of the Qdrant server\n",
    "        api_key (str): API key for Qdrant\n",
    "        collection_name (str): Name of the collection to search for chunks\n",
    "        embedding_model_name (str): Name of the model to be used for embeddings\n",
    "        query (str): Query text\n",
    "        topic (str): Topic to filter the chunks\n",
    "\n",
    "    Returns:\n",
    "\n",
    "    '''\n",
    "    eval_dict = {\n",
    "        \"question\": [],\n",
    "        \"ground_truth\": [],\n",
    "        \"retrieved_contexts\": [],\n",
    "        \"answer\": []\n",
    "    }\n",
    "\n",
    "    len_dataset = len(eval_dataset)\n",
    "\n",
    "    hypothesis = []\n",
    "\n",
    "    for index, row in eval_dataset.iterrows():\n",
    "        # Print the progress\n",
    "        print(f\"Row {index + 1}/{len_dataset}\", flush=True, end=\"\\r\")\n",
    "        eval_dict[\"question\"].append(row[\"question\"])\n",
    "        eval_dict[\"ground_truth\"].append(row[\"ground_truth\"])\n",
    "        query = row[\"question\"]\n",
    "        topic = row[\"topic\"]\n",
    "        hyde_response = None\n",
    "        if hyde:\n",
    "            hyde_response = hypothesis_pipeline(llm_name, query)\n",
    "            hypothesis.append(hyde_response)\n",
    "        retrieved_documents = retrieval_pipeline(url, api_key, collection_name, embedding_model_name, query, topic, hyde_response)\n",
    "        eval_dict[\"retrieved_contexts\"].append(retrieved_documents)\n",
    "\n",
    "        llm_answer = generation_pipeline(retrieved_documents, query, llm_name)\n",
    "        eval_dict[\"answer\"].append(llm_answer)\n",
    "\n",
    "        # Sleep 30s\n",
    "        # time.sleep(30)\n",
    "    \n",
    "    if hyde:\n",
    "        eval_dict[\"hypothesis\"] = hypothesis\n",
    "    \n",
    "    print(f\"Answer generation is finished.\")\n",
    "\n",
    "    return eval_dict"
   ]
  },
  {
   "cell_type": "markdown",
   "metadata": {},
   "source": [
    "# Running Answer Generation"
   ]
  },
  {
   "cell_type": "code",
   "execution_count": null,
   "metadata": {},
   "outputs": [
    {
     "name": "stdout",
     "output_type": "stream",
     "text": [
      "Generating answer for combination_1\n",
      "Collection      : cvd_collection_v1\n",
      "Embedding Model : nomic-embed-text\n",
      "LLM Model       : llama3.1\n",
      "HyDE            : False\n",
      "------------------------------------------------------------\n",
      "Row 1/1\r"
     ]
    },
    {
     "ename": "KeyboardInterrupt",
     "evalue": "",
     "output_type": "error",
     "traceback": [
      "\u001b[1;31m---------------------------------------------------------------------------\u001b[0m",
      "\u001b[1;31mKeyboardInterrupt\u001b[0m                         Traceback (most recent call last)",
      "Cell \u001b[1;32mIn[5], line 57\u001b[0m\n\u001b[0;32m     54\u001b[0m             duration_df \u001b[38;5;241m=\u001b[39m pd\u001b[38;5;241m.\u001b[39mDataFrame(evaluation_duration)\n\u001b[0;32m     55\u001b[0m             duration_df\u001b[38;5;241m.\u001b[39mto_csv(\u001b[38;5;124mf\u001b[39m\u001b[38;5;124m'\u001b[39m\u001b[38;5;124m../../../data/answer_duration_\u001b[39m\u001b[38;5;132;01m{\u001b[39;00mconfig_name\u001b[38;5;132;01m}\u001b[39;00m\u001b[38;5;124m_demo.csv\u001b[39m\u001b[38;5;124m'\u001b[39m, index\u001b[38;5;241m=\u001b[39m\u001b[38;5;28;01mFalse\u001b[39;00m)\n\u001b[1;32m---> 57\u001b[0m \u001b[43mmain\u001b[49m\u001b[43m(\u001b[49m\u001b[43m)\u001b[49m\n",
      "Cell \u001b[1;32mIn[5], line 34\u001b[0m, in \u001b[0;36mmain\u001b[1;34m()\u001b[0m\n\u001b[0;32m     30\u001b[0m \u001b[38;5;28mprint\u001b[39m(\u001b[38;5;124mf\u001b[39m\u001b[38;5;124m\"\u001b[39m\u001b[38;5;124mHyDE            : \u001b[39m\u001b[38;5;132;01m{\u001b[39;00mis_hyde\u001b[38;5;132;01m}\u001b[39;00m\u001b[38;5;130;01m\\n\u001b[39;00m\u001b[38;5;124m------------------------------------------------------------\u001b[39m\u001b[38;5;124m\"\u001b[39m)\n\u001b[0;32m     32\u001b[0m start_time \u001b[38;5;241m=\u001b[39m time\u001b[38;5;241m.\u001b[39mtime()\n\u001b[1;32m---> 34\u001b[0m answer_json \u001b[38;5;241m=\u001b[39m \u001b[43mgenerate_answer_dataset\u001b[49m\u001b[43m(\u001b[49m\u001b[43murl\u001b[49m\u001b[43m,\u001b[49m\u001b[43m \u001b[49m\u001b[43mapi_key\u001b[49m\u001b[43m,\u001b[49m\u001b[43m \u001b[49m\u001b[43mcollection_name\u001b[49m\u001b[43m,\u001b[49m\u001b[43m \u001b[49m\u001b[43membedding_model_name\u001b[49m\u001b[43m,\u001b[49m\u001b[43m \u001b[49m\u001b[43mllm_name\u001b[49m\u001b[43m,\u001b[49m\u001b[43m \u001b[49m\u001b[43meval_dataset\u001b[49m\u001b[43m,\u001b[49m\u001b[43m \u001b[49m\u001b[43mhyde\u001b[49m\u001b[38;5;241;43m=\u001b[39;49m\u001b[43mis_hyde\u001b[49m\u001b[43m)\u001b[49m\n\u001b[0;32m     35\u001b[0m file_name \u001b[38;5;241m=\u001b[39m \u001b[38;5;124mf\u001b[39m\u001b[38;5;124m\"\u001b[39m\u001b[38;5;124manswer_\u001b[39m\u001b[38;5;132;01m{\u001b[39;00mconfig_name\u001b[38;5;132;01m}\u001b[39;00m\u001b[38;5;124m_demo.json\u001b[39m\u001b[38;5;124m\"\u001b[39m\n\u001b[0;32m     36\u001b[0m \u001b[38;5;28;01mwith\u001b[39;00m \u001b[38;5;28mopen\u001b[39m(\u001b[38;5;124mf\u001b[39m\u001b[38;5;124m'\u001b[39m\u001b[38;5;124m../../../data/\u001b[39m\u001b[38;5;132;01m{\u001b[39;00mfile_name\u001b[38;5;132;01m}\u001b[39;00m\u001b[38;5;124m'\u001b[39m, \u001b[38;5;124m'\u001b[39m\u001b[38;5;124mw\u001b[39m\u001b[38;5;124m'\u001b[39m) \u001b[38;5;28;01mas\u001b[39;00m f:\n",
      "Cell \u001b[1;32mIn[4], line 36\u001b[0m, in \u001b[0;36mgenerate_answer_dataset\u001b[1;34m(url, api_key, collection_name, embedding_model_name, llm_name, eval_dataset, hyde)\u001b[0m\n\u001b[0;32m     34\u001b[0m     hyde_response \u001b[38;5;241m=\u001b[39m hypothesis_pipeline(llm_name, query)\n\u001b[0;32m     35\u001b[0m     hypothesis\u001b[38;5;241m.\u001b[39mappend(hyde_response)\n\u001b[1;32m---> 36\u001b[0m retrieved_documents \u001b[38;5;241m=\u001b[39m \u001b[43mretrieval_pipeline\u001b[49m\u001b[43m(\u001b[49m\u001b[43murl\u001b[49m\u001b[43m,\u001b[49m\u001b[43m \u001b[49m\u001b[43mapi_key\u001b[49m\u001b[43m,\u001b[49m\u001b[43m \u001b[49m\u001b[43mcollection_name\u001b[49m\u001b[43m,\u001b[49m\u001b[43m \u001b[49m\u001b[43membedding_model_name\u001b[49m\u001b[43m,\u001b[49m\u001b[43m \u001b[49m\u001b[43mquery\u001b[49m\u001b[43m,\u001b[49m\u001b[43m \u001b[49m\u001b[43mtopic\u001b[49m\u001b[43m,\u001b[49m\u001b[43m \u001b[49m\u001b[43mhyde_response\u001b[49m\u001b[43m)\u001b[49m\n\u001b[0;32m     37\u001b[0m eval_dict[\u001b[38;5;124m\"\u001b[39m\u001b[38;5;124mretrieved_contexts\u001b[39m\u001b[38;5;124m\"\u001b[39m]\u001b[38;5;241m.\u001b[39mappend(retrieved_documents)\n\u001b[0;32m     39\u001b[0m llm_answer \u001b[38;5;241m=\u001b[39m generation_pipeline(retrieved_documents, query, llm_name)\n",
      "File \u001b[1;32mc:\\Users\\Ariq\\Documents\\GitHub\\Indo_CVD_RAG\\RAG\\pipeline\\retrieval_generation_pipeline.py:257\u001b[0m, in \u001b[0;36mretrieval_pipeline\u001b[1;34m(url, api_key, collection_name, embedding_model_name, query, topic, hyde_response, return_sources)\u001b[0m\n\u001b[0;32m    254\u001b[0m     query_vector \u001b[38;5;241m=\u001b[39m encode_text(embeddings, hyde_response)\n\u001b[0;32m    256\u001b[0m \u001b[38;5;66;03m# Mengambil 3 chunk teratas dari Qdrant\u001b[39;00m\n\u001b[1;32m--> 257\u001b[0m chunks \u001b[38;5;241m=\u001b[39m \u001b[43mget_chunks\u001b[49m\u001b[43m(\u001b[49m\u001b[43mquery_vector\u001b[49m\u001b[43m,\u001b[49m\u001b[43m \u001b[49m\u001b[43mclient\u001b[49m\u001b[43m,\u001b[49m\u001b[43m \u001b[49m\u001b[43mcollection_name\u001b[49m\u001b[43m,\u001b[49m\u001b[43m \u001b[49m\u001b[43mtopic\u001b[49m\u001b[38;5;241;43m=\u001b[39;49m\u001b[43mtopic\u001b[49m\u001b[43m)\u001b[49m\n\u001b[0;32m    259\u001b[0m \u001b[38;5;66;03m# Mengambil isi dan source dari setiap chunk\u001b[39;00m\n\u001b[0;32m    260\u001b[0m contents \u001b[38;5;241m=\u001b[39m get_content_list(chunks, query)\n",
      "File \u001b[1;32mc:\\Users\\Ariq\\Documents\\GitHub\\Indo_CVD_RAG\\RAG\\pipeline\\retrieval_generation_pipeline.py:66\u001b[0m, in \u001b[0;36mget_chunks\u001b[1;34m(vector, client, collection_name, topic)\u001b[0m\n\u001b[0;32m     60\u001b[0m     chunks \u001b[38;5;241m=\u001b[39m client\u001b[38;5;241m.\u001b[39mquery_points(\n\u001b[0;32m     61\u001b[0m         collection_name\u001b[38;5;241m=\u001b[39mcollection_name,\n\u001b[0;32m     62\u001b[0m         query\u001b[38;5;241m=\u001b[39mvector,\n\u001b[0;32m     63\u001b[0m         limit\u001b[38;5;241m=\u001b[39m\u001b[38;5;241m10\u001b[39m\n\u001b[0;32m     64\u001b[0m     )\n\u001b[0;32m     65\u001b[0m \u001b[38;5;28;01melse\u001b[39;00m:\n\u001b[1;32m---> 66\u001b[0m     chunks \u001b[38;5;241m=\u001b[39m \u001b[43mclient\u001b[49m\u001b[38;5;241;43m.\u001b[39;49m\u001b[43mquery_points\u001b[49m\u001b[43m(\u001b[49m\n\u001b[0;32m     67\u001b[0m \u001b[43m        \u001b[49m\u001b[43mcollection_name\u001b[49m\u001b[38;5;241;43m=\u001b[39;49m\u001b[43mcollection_name\u001b[49m\u001b[43m,\u001b[49m\n\u001b[0;32m     68\u001b[0m \u001b[43m        \u001b[49m\u001b[43mquery\u001b[49m\u001b[38;5;241;43m=\u001b[39;49m\u001b[43mvector\u001b[49m\u001b[43m,\u001b[49m\n\u001b[0;32m     69\u001b[0m \u001b[43m        \u001b[49m\u001b[43mlimit\u001b[49m\u001b[38;5;241;43m=\u001b[39;49m\u001b[38;5;241;43m10\u001b[39;49m\u001b[43m,\u001b[49m\n\u001b[0;32m     70\u001b[0m \u001b[43m        \u001b[49m\u001b[43mquery_filter\u001b[49m\u001b[38;5;241;43m=\u001b[39;49m\u001b[43mmodels\u001b[49m\u001b[38;5;241;43m.\u001b[39;49m\u001b[43mFilter\u001b[49m\u001b[43m(\u001b[49m\n\u001b[0;32m     71\u001b[0m \u001b[43m            \u001b[49m\u001b[43mmust\u001b[49m\u001b[38;5;241;43m=\u001b[39;49m\u001b[43m[\u001b[49m\n\u001b[0;32m     72\u001b[0m \u001b[43m                \u001b[49m\u001b[43mmodels\u001b[49m\u001b[38;5;241;43m.\u001b[39;49m\u001b[43mFieldCondition\u001b[49m\u001b[43m(\u001b[49m\n\u001b[0;32m     73\u001b[0m \u001b[43m                    \u001b[49m\u001b[43mkey\u001b[49m\u001b[38;5;241;43m=\u001b[39;49m\u001b[38;5;124;43m\"\u001b[39;49m\u001b[38;5;124;43mtopic\u001b[39;49m\u001b[38;5;124;43m\"\u001b[39;49m\u001b[43m,\u001b[49m\n\u001b[0;32m     74\u001b[0m \u001b[43m                    \u001b[49m\u001b[43mmatch\u001b[49m\u001b[38;5;241;43m=\u001b[39;49m\u001b[43mmodels\u001b[49m\u001b[38;5;241;43m.\u001b[39;49m\u001b[43mMatchAny\u001b[49m\u001b[43m(\u001b[49m\u001b[38;5;28;43many\u001b[39;49m\u001b[38;5;241;43m=\u001b[39;49m\u001b[43m[\u001b[49m\u001b[43mtopic\u001b[49m\u001b[43m]\u001b[49m\u001b[43m)\u001b[49m\n\u001b[0;32m     75\u001b[0m \u001b[43m                \u001b[49m\u001b[43m)\u001b[49m\n\u001b[0;32m     76\u001b[0m \u001b[43m            \u001b[49m\u001b[43m]\u001b[49m\n\u001b[0;32m     77\u001b[0m \u001b[43m        \u001b[49m\u001b[43m)\u001b[49m\n\u001b[0;32m     78\u001b[0m \u001b[43m    \u001b[49m\u001b[43m)\u001b[49m\n\u001b[0;32m     79\u001b[0m chunks \u001b[38;5;241m=\u001b[39m chunks\u001b[38;5;241m.\u001b[39mpoints\n\u001b[0;32m     80\u001b[0m \u001b[38;5;28;01mreturn\u001b[39;00m chunks\n",
      "File \u001b[1;32mc:\\Users\\Ariq\\anaconda3\\envs\\TugasAkhir\\lib\\site-packages\\qdrant_client\\qdrant_client.py:559\u001b[0m, in \u001b[0;36mQdrantClient.query_points\u001b[1;34m(self, collection_name, query, using, prefetch, query_filter, search_params, limit, offset, with_payload, with_vectors, score_threshold, lookup_from, consistency, shard_key_selector, timeout, **kwargs)\u001b[0m\n\u001b[0;32m    555\u001b[0m \u001b[38;5;66;03m# If the query contains unprocessed documents, we need to embed them and\u001b[39;00m\n\u001b[0;32m    556\u001b[0m \u001b[38;5;66;03m# replace the original query with the embedded vectors.\u001b[39;00m\n\u001b[0;32m    557\u001b[0m query, prefetch \u001b[38;5;241m=\u001b[39m \u001b[38;5;28mself\u001b[39m\u001b[38;5;241m.\u001b[39m_resolve_query_to_embedding_embeddings_and_prefetch(query, prefetch)\n\u001b[1;32m--> 559\u001b[0m \u001b[38;5;28;01mreturn\u001b[39;00m \u001b[38;5;28mself\u001b[39m\u001b[38;5;241m.\u001b[39m_client\u001b[38;5;241m.\u001b[39mquery_points(\n\u001b[0;32m    560\u001b[0m     collection_name\u001b[38;5;241m=\u001b[39mcollection_name,\n\u001b[0;32m    561\u001b[0m     query\u001b[38;5;241m=\u001b[39mquery,\n\u001b[0;32m    562\u001b[0m     prefetch\u001b[38;5;241m=\u001b[39mprefetch,\n\u001b[0;32m    563\u001b[0m     query_filter\u001b[38;5;241m=\u001b[39mquery_filter,\n\u001b[0;32m    564\u001b[0m     search_params\u001b[38;5;241m=\u001b[39msearch_params,\n\u001b[0;32m    565\u001b[0m     limit\u001b[38;5;241m=\u001b[39mlimit,\n\u001b[0;32m    566\u001b[0m     offset\u001b[38;5;241m=\u001b[39moffset,\n\u001b[0;32m    567\u001b[0m     with_payload\u001b[38;5;241m=\u001b[39mwith_payload,\n\u001b[0;32m    568\u001b[0m     with_vectors\u001b[38;5;241m=\u001b[39mwith_vectors,\n\u001b[0;32m    569\u001b[0m     score_threshold\u001b[38;5;241m=\u001b[39mscore_threshold,\n\u001b[0;32m    570\u001b[0m     using\u001b[38;5;241m=\u001b[39musing,\n\u001b[0;32m    571\u001b[0m     lookup_from\u001b[38;5;241m=\u001b[39mlookup_from,\n\u001b[0;32m    572\u001b[0m     consistency\u001b[38;5;241m=\u001b[39mconsistency,\n\u001b[0;32m    573\u001b[0m     shard_key_selector\u001b[38;5;241m=\u001b[39mshard_key_selector,\n\u001b[0;32m    574\u001b[0m     timeout\u001b[38;5;241m=\u001b[39mtimeout,\n\u001b[0;32m    575\u001b[0m     \u001b[38;5;241m*\u001b[39m\u001b[38;5;241m*\u001b[39mkwargs,\n\u001b[0;32m    576\u001b[0m )\n",
      "File \u001b[1;32mc:\\Users\\Ariq\\anaconda3\\envs\\TugasAkhir\\lib\\site-packages\\qdrant_client\\qdrant_remote.py:702\u001b[0m, in \u001b[0;36mQdrantRemote.query_points\u001b[1;34m(self, collection_name, query, using, prefetch, query_filter, search_params, limit, offset, with_payload, with_vectors, score_threshold, lookup_from, consistency, shard_key_selector, timeout, **kwargs)\u001b[0m\n\u001b[0;32m    685\u001b[0m     lookup_from \u001b[38;5;241m=\u001b[39m GrpcToRest\u001b[38;5;241m.\u001b[39mconvert_lookup_location(lookup_from)\n\u001b[0;32m    687\u001b[0m query_request \u001b[38;5;241m=\u001b[39m models\u001b[38;5;241m.\u001b[39mQueryRequest(\n\u001b[0;32m    688\u001b[0m     shard_key\u001b[38;5;241m=\u001b[39mshard_key_selector,\n\u001b[0;32m    689\u001b[0m     prefetch\u001b[38;5;241m=\u001b[39mprefetch,\n\u001b[1;32m   (...)\u001b[0m\n\u001b[0;32m    699\u001b[0m     lookup_from\u001b[38;5;241m=\u001b[39mlookup_from,\n\u001b[0;32m    700\u001b[0m )\n\u001b[1;32m--> 702\u001b[0m query_result \u001b[38;5;241m=\u001b[39m \u001b[38;5;28;43mself\u001b[39;49m\u001b[38;5;241;43m.\u001b[39;49m\u001b[43mhttp\u001b[49m\u001b[38;5;241;43m.\u001b[39;49m\u001b[43mpoints_api\u001b[49m\u001b[38;5;241;43m.\u001b[39;49m\u001b[43mquery_points\u001b[49m\u001b[43m(\u001b[49m\n\u001b[0;32m    703\u001b[0m \u001b[43m    \u001b[49m\u001b[43mcollection_name\u001b[49m\u001b[38;5;241;43m=\u001b[39;49m\u001b[43mcollection_name\u001b[49m\u001b[43m,\u001b[49m\n\u001b[0;32m    704\u001b[0m \u001b[43m    \u001b[49m\u001b[43mconsistency\u001b[49m\u001b[38;5;241;43m=\u001b[39;49m\u001b[43mconsistency\u001b[49m\u001b[43m,\u001b[49m\n\u001b[0;32m    705\u001b[0m \u001b[43m    \u001b[49m\u001b[43mtimeout\u001b[49m\u001b[38;5;241;43m=\u001b[39;49m\u001b[43mtimeout\u001b[49m\u001b[43m,\u001b[49m\n\u001b[0;32m    706\u001b[0m \u001b[43m    \u001b[49m\u001b[43mquery_request\u001b[49m\u001b[38;5;241;43m=\u001b[39;49m\u001b[43mquery_request\u001b[49m\u001b[43m,\u001b[49m\n\u001b[0;32m    707\u001b[0m \u001b[43m\u001b[49m\u001b[43m)\u001b[49m\n\u001b[0;32m    709\u001b[0m result: Optional[models\u001b[38;5;241m.\u001b[39mQueryResponse] \u001b[38;5;241m=\u001b[39m query_result\u001b[38;5;241m.\u001b[39mresult\n\u001b[0;32m    710\u001b[0m \u001b[38;5;28;01massert\u001b[39;00m result \u001b[38;5;129;01mis\u001b[39;00m \u001b[38;5;129;01mnot\u001b[39;00m \u001b[38;5;28;01mNone\u001b[39;00m, \u001b[38;5;124m\"\u001b[39m\u001b[38;5;124mSearch returned None\u001b[39m\u001b[38;5;124m\"\u001b[39m\n",
      "File \u001b[1;32mc:\\Users\\Ariq\\anaconda3\\envs\\TugasAkhir\\lib\\site-packages\\qdrant_client\\http\\api\\points_api.py:1650\u001b[0m, in \u001b[0;36mSyncPointsApi.query_points\u001b[1;34m(self, collection_name, consistency, timeout, query_request)\u001b[0m\n\u001b[0;32m   1640\u001b[0m \u001b[38;5;28;01mdef\u001b[39;00m\u001b[38;5;250m \u001b[39m\u001b[38;5;21mquery_points\u001b[39m(\n\u001b[0;32m   1641\u001b[0m     \u001b[38;5;28mself\u001b[39m,\n\u001b[0;32m   1642\u001b[0m     collection_name: \u001b[38;5;28mstr\u001b[39m,\n\u001b[1;32m   (...)\u001b[0m\n\u001b[0;32m   1645\u001b[0m     query_request: m\u001b[38;5;241m.\u001b[39mQueryRequest \u001b[38;5;241m=\u001b[39m \u001b[38;5;28;01mNone\u001b[39;00m,\n\u001b[0;32m   1646\u001b[0m ) \u001b[38;5;241m-\u001b[39m\u001b[38;5;241m>\u001b[39m m\u001b[38;5;241m.\u001b[39mInlineResponse20021:\n\u001b[0;32m   1647\u001b[0m \u001b[38;5;250m    \u001b[39m\u001b[38;5;124;03m\"\"\"\u001b[39;00m\n\u001b[0;32m   1648\u001b[0m \u001b[38;5;124;03m    Universally query points. This endpoint covers all capabilities of search, recommend, discover, filters. But also enables hybrid and multi-stage queries.\u001b[39;00m\n\u001b[0;32m   1649\u001b[0m \u001b[38;5;124;03m    \"\"\"\u001b[39;00m\n\u001b[1;32m-> 1650\u001b[0m     \u001b[38;5;28;01mreturn\u001b[39;00m \u001b[38;5;28;43mself\u001b[39;49m\u001b[38;5;241;43m.\u001b[39;49m\u001b[43m_build_for_query_points\u001b[49m\u001b[43m(\u001b[49m\n\u001b[0;32m   1651\u001b[0m \u001b[43m        \u001b[49m\u001b[43mcollection_name\u001b[49m\u001b[38;5;241;43m=\u001b[39;49m\u001b[43mcollection_name\u001b[49m\u001b[43m,\u001b[49m\n\u001b[0;32m   1652\u001b[0m \u001b[43m        \u001b[49m\u001b[43mconsistency\u001b[49m\u001b[38;5;241;43m=\u001b[39;49m\u001b[43mconsistency\u001b[49m\u001b[43m,\u001b[49m\n\u001b[0;32m   1653\u001b[0m \u001b[43m        \u001b[49m\u001b[43mtimeout\u001b[49m\u001b[38;5;241;43m=\u001b[39;49m\u001b[43mtimeout\u001b[49m\u001b[43m,\u001b[49m\n\u001b[0;32m   1654\u001b[0m \u001b[43m        \u001b[49m\u001b[43mquery_request\u001b[49m\u001b[38;5;241;43m=\u001b[39;49m\u001b[43mquery_request\u001b[49m\u001b[43m,\u001b[49m\n\u001b[0;32m   1655\u001b[0m \u001b[43m    \u001b[49m\u001b[43m)\u001b[49m\n",
      "File \u001b[1;32mc:\\Users\\Ariq\\anaconda3\\envs\\TugasAkhir\\lib\\site-packages\\qdrant_client\\http\\api\\points_api.py:512\u001b[0m, in \u001b[0;36m_PointsApi._build_for_query_points\u001b[1;34m(self, collection_name, consistency, timeout, query_request)\u001b[0m\n\u001b[0;32m    510\u001b[0m \u001b[38;5;28;01mif\u001b[39;00m \u001b[38;5;124m\"\u001b[39m\u001b[38;5;124mContent-Type\u001b[39m\u001b[38;5;124m\"\u001b[39m \u001b[38;5;129;01mnot\u001b[39;00m \u001b[38;5;129;01min\u001b[39;00m headers:\n\u001b[0;32m    511\u001b[0m     headers[\u001b[38;5;124m\"\u001b[39m\u001b[38;5;124mContent-Type\u001b[39m\u001b[38;5;124m\"\u001b[39m] \u001b[38;5;241m=\u001b[39m \u001b[38;5;124m\"\u001b[39m\u001b[38;5;124mapplication/json\u001b[39m\u001b[38;5;124m\"\u001b[39m\n\u001b[1;32m--> 512\u001b[0m \u001b[38;5;28;01mreturn\u001b[39;00m \u001b[38;5;28;43mself\u001b[39;49m\u001b[38;5;241;43m.\u001b[39;49m\u001b[43mapi_client\u001b[49m\u001b[38;5;241;43m.\u001b[39;49m\u001b[43mrequest\u001b[49m\u001b[43m(\u001b[49m\n\u001b[0;32m    513\u001b[0m \u001b[43m    \u001b[49m\u001b[43mtype_\u001b[49m\u001b[38;5;241;43m=\u001b[39;49m\u001b[43mm\u001b[49m\u001b[38;5;241;43m.\u001b[39;49m\u001b[43mInlineResponse20021\u001b[49m\u001b[43m,\u001b[49m\n\u001b[0;32m    514\u001b[0m \u001b[43m    \u001b[49m\u001b[43mmethod\u001b[49m\u001b[38;5;241;43m=\u001b[39;49m\u001b[38;5;124;43m\"\u001b[39;49m\u001b[38;5;124;43mPOST\u001b[39;49m\u001b[38;5;124;43m\"\u001b[39;49m\u001b[43m,\u001b[49m\n\u001b[0;32m    515\u001b[0m \u001b[43m    \u001b[49m\u001b[43murl\u001b[49m\u001b[38;5;241;43m=\u001b[39;49m\u001b[38;5;124;43m\"\u001b[39;49m\u001b[38;5;124;43m/collections/\u001b[39;49m\u001b[38;5;132;43;01m{collection_name}\u001b[39;49;00m\u001b[38;5;124;43m/points/query\u001b[39;49m\u001b[38;5;124;43m\"\u001b[39;49m\u001b[43m,\u001b[49m\n\u001b[0;32m    516\u001b[0m \u001b[43m    \u001b[49m\u001b[43mheaders\u001b[49m\u001b[38;5;241;43m=\u001b[39;49m\u001b[43mheaders\u001b[49m\u001b[43m \u001b[49m\u001b[38;5;28;43;01mif\u001b[39;49;00m\u001b[43m \u001b[49m\u001b[43mheaders\u001b[49m\u001b[43m \u001b[49m\u001b[38;5;28;43;01melse\u001b[39;49;00m\u001b[43m \u001b[49m\u001b[38;5;28;43;01mNone\u001b[39;49;00m\u001b[43m,\u001b[49m\n\u001b[0;32m    517\u001b[0m \u001b[43m    \u001b[49m\u001b[43mpath_params\u001b[49m\u001b[38;5;241;43m=\u001b[39;49m\u001b[43mpath_params\u001b[49m\u001b[43m,\u001b[49m\n\u001b[0;32m    518\u001b[0m \u001b[43m    \u001b[49m\u001b[43mparams\u001b[49m\u001b[38;5;241;43m=\u001b[39;49m\u001b[43mquery_params\u001b[49m\u001b[43m,\u001b[49m\n\u001b[0;32m    519\u001b[0m \u001b[43m    \u001b[49m\u001b[43mcontent\u001b[49m\u001b[38;5;241;43m=\u001b[39;49m\u001b[43mbody\u001b[49m\u001b[43m,\u001b[49m\n\u001b[0;32m    520\u001b[0m \u001b[43m\u001b[49m\u001b[43m)\u001b[49m\n",
      "File \u001b[1;32mc:\\Users\\Ariq\\anaconda3\\envs\\TugasAkhir\\lib\\site-packages\\qdrant_client\\http\\api_client.py:79\u001b[0m, in \u001b[0;36mApiClient.request\u001b[1;34m(self, type_, method, url, path_params, **kwargs)\u001b[0m\n\u001b[0;32m     77\u001b[0m     kwargs[\u001b[38;5;124m\"\u001b[39m\u001b[38;5;124mtimeout\u001b[39m\u001b[38;5;124m\"\u001b[39m] \u001b[38;5;241m=\u001b[39m \u001b[38;5;28mint\u001b[39m(kwargs[\u001b[38;5;124m\"\u001b[39m\u001b[38;5;124mparams\u001b[39m\u001b[38;5;124m\"\u001b[39m][\u001b[38;5;124m\"\u001b[39m\u001b[38;5;124mtimeout\u001b[39m\u001b[38;5;124m\"\u001b[39m])\n\u001b[0;32m     78\u001b[0m request \u001b[38;5;241m=\u001b[39m \u001b[38;5;28mself\u001b[39m\u001b[38;5;241m.\u001b[39m_client\u001b[38;5;241m.\u001b[39mbuild_request(method, url, \u001b[38;5;241m*\u001b[39m\u001b[38;5;241m*\u001b[39mkwargs)\n\u001b[1;32m---> 79\u001b[0m \u001b[38;5;28;01mreturn\u001b[39;00m \u001b[38;5;28;43mself\u001b[39;49m\u001b[38;5;241;43m.\u001b[39;49m\u001b[43msend\u001b[49m\u001b[43m(\u001b[49m\u001b[43mrequest\u001b[49m\u001b[43m,\u001b[49m\u001b[43m \u001b[49m\u001b[43mtype_\u001b[49m\u001b[43m)\u001b[49m\n",
      "File \u001b[1;32mc:\\Users\\Ariq\\anaconda3\\envs\\TugasAkhir\\lib\\site-packages\\qdrant_client\\http\\api_client.py:96\u001b[0m, in \u001b[0;36mApiClient.send\u001b[1;34m(self, request, type_)\u001b[0m\n\u001b[0;32m     95\u001b[0m \u001b[38;5;28;01mdef\u001b[39;00m\u001b[38;5;250m \u001b[39m\u001b[38;5;21msend\u001b[39m(\u001b[38;5;28mself\u001b[39m, request: Request, type_: Type[T]) \u001b[38;5;241m-\u001b[39m\u001b[38;5;241m>\u001b[39m T:\n\u001b[1;32m---> 96\u001b[0m     response \u001b[38;5;241m=\u001b[39m \u001b[38;5;28;43mself\u001b[39;49m\u001b[38;5;241;43m.\u001b[39;49m\u001b[43mmiddleware\u001b[49m\u001b[43m(\u001b[49m\u001b[43mrequest\u001b[49m\u001b[43m,\u001b[49m\u001b[43m \u001b[49m\u001b[38;5;28;43mself\u001b[39;49m\u001b[38;5;241;43m.\u001b[39;49m\u001b[43msend_inner\u001b[49m\u001b[43m)\u001b[49m\n\u001b[0;32m     97\u001b[0m     \u001b[38;5;28;01mif\u001b[39;00m response\u001b[38;5;241m.\u001b[39mstatus_code \u001b[38;5;129;01min\u001b[39;00m [\u001b[38;5;241m200\u001b[39m, \u001b[38;5;241m201\u001b[39m, \u001b[38;5;241m202\u001b[39m]:\n\u001b[0;32m     98\u001b[0m         \u001b[38;5;28;01mtry\u001b[39;00m:\n",
      "File \u001b[1;32mc:\\Users\\Ariq\\anaconda3\\envs\\TugasAkhir\\lib\\site-packages\\qdrant_client\\http\\api_client.py:205\u001b[0m, in \u001b[0;36mBaseMiddleware.__call__\u001b[1;34m(self, request, call_next)\u001b[0m\n\u001b[0;32m    204\u001b[0m \u001b[38;5;28;01mdef\u001b[39;00m\u001b[38;5;250m \u001b[39m\u001b[38;5;21m__call__\u001b[39m(\u001b[38;5;28mself\u001b[39m, request: Request, call_next: Send) \u001b[38;5;241m-\u001b[39m\u001b[38;5;241m>\u001b[39m Response:\n\u001b[1;32m--> 205\u001b[0m     \u001b[38;5;28;01mreturn\u001b[39;00m \u001b[43mcall_next\u001b[49m\u001b[43m(\u001b[49m\u001b[43mrequest\u001b[49m\u001b[43m)\u001b[49m\n",
      "File \u001b[1;32mc:\\Users\\Ariq\\anaconda3\\envs\\TugasAkhir\\lib\\site-packages\\qdrant_client\\http\\api_client.py:106\u001b[0m, in \u001b[0;36mApiClient.send_inner\u001b[1;34m(self, request)\u001b[0m\n\u001b[0;32m    104\u001b[0m \u001b[38;5;28;01mdef\u001b[39;00m\u001b[38;5;250m \u001b[39m\u001b[38;5;21msend_inner\u001b[39m(\u001b[38;5;28mself\u001b[39m, request: Request) \u001b[38;5;241m-\u001b[39m\u001b[38;5;241m>\u001b[39m Response:\n\u001b[0;32m    105\u001b[0m     \u001b[38;5;28;01mtry\u001b[39;00m:\n\u001b[1;32m--> 106\u001b[0m         response \u001b[38;5;241m=\u001b[39m \u001b[38;5;28;43mself\u001b[39;49m\u001b[38;5;241;43m.\u001b[39;49m\u001b[43m_client\u001b[49m\u001b[38;5;241;43m.\u001b[39;49m\u001b[43msend\u001b[49m\u001b[43m(\u001b[49m\u001b[43mrequest\u001b[49m\u001b[43m)\u001b[49m\n\u001b[0;32m    107\u001b[0m     \u001b[38;5;28;01mexcept\u001b[39;00m \u001b[38;5;167;01mException\u001b[39;00m \u001b[38;5;28;01mas\u001b[39;00m e:\n\u001b[0;32m    108\u001b[0m         \u001b[38;5;28;01mraise\u001b[39;00m ResponseHandlingException(e)\n",
      "File \u001b[1;32mc:\\Users\\Ariq\\anaconda3\\envs\\TugasAkhir\\lib\\site-packages\\httpx\\_client.py:914\u001b[0m, in \u001b[0;36mClient.send\u001b[1;34m(self, request, stream, auth, follow_redirects)\u001b[0m\n\u001b[0;32m    910\u001b[0m \u001b[38;5;28mself\u001b[39m\u001b[38;5;241m.\u001b[39m_set_timeout(request)\n\u001b[0;32m    912\u001b[0m auth \u001b[38;5;241m=\u001b[39m \u001b[38;5;28mself\u001b[39m\u001b[38;5;241m.\u001b[39m_build_request_auth(request, auth)\n\u001b[1;32m--> 914\u001b[0m response \u001b[38;5;241m=\u001b[39m \u001b[38;5;28;43mself\u001b[39;49m\u001b[38;5;241;43m.\u001b[39;49m\u001b[43m_send_handling_auth\u001b[49m\u001b[43m(\u001b[49m\n\u001b[0;32m    915\u001b[0m \u001b[43m    \u001b[49m\u001b[43mrequest\u001b[49m\u001b[43m,\u001b[49m\n\u001b[0;32m    916\u001b[0m \u001b[43m    \u001b[49m\u001b[43mauth\u001b[49m\u001b[38;5;241;43m=\u001b[39;49m\u001b[43mauth\u001b[49m\u001b[43m,\u001b[49m\n\u001b[0;32m    917\u001b[0m \u001b[43m    \u001b[49m\u001b[43mfollow_redirects\u001b[49m\u001b[38;5;241;43m=\u001b[39;49m\u001b[43mfollow_redirects\u001b[49m\u001b[43m,\u001b[49m\n\u001b[0;32m    918\u001b[0m \u001b[43m    \u001b[49m\u001b[43mhistory\u001b[49m\u001b[38;5;241;43m=\u001b[39;49m\u001b[43m[\u001b[49m\u001b[43m]\u001b[49m\u001b[43m,\u001b[49m\n\u001b[0;32m    919\u001b[0m \u001b[43m\u001b[49m\u001b[43m)\u001b[49m\n\u001b[0;32m    920\u001b[0m \u001b[38;5;28;01mtry\u001b[39;00m:\n\u001b[0;32m    921\u001b[0m     \u001b[38;5;28;01mif\u001b[39;00m \u001b[38;5;129;01mnot\u001b[39;00m stream:\n",
      "File \u001b[1;32mc:\\Users\\Ariq\\anaconda3\\envs\\TugasAkhir\\lib\\site-packages\\httpx\\_client.py:942\u001b[0m, in \u001b[0;36mClient._send_handling_auth\u001b[1;34m(self, request, auth, follow_redirects, history)\u001b[0m\n\u001b[0;32m    939\u001b[0m request \u001b[38;5;241m=\u001b[39m \u001b[38;5;28mnext\u001b[39m(auth_flow)\n\u001b[0;32m    941\u001b[0m \u001b[38;5;28;01mwhile\u001b[39;00m \u001b[38;5;28;01mTrue\u001b[39;00m:\n\u001b[1;32m--> 942\u001b[0m     response \u001b[38;5;241m=\u001b[39m \u001b[38;5;28;43mself\u001b[39;49m\u001b[38;5;241;43m.\u001b[39;49m\u001b[43m_send_handling_redirects\u001b[49m\u001b[43m(\u001b[49m\n\u001b[0;32m    943\u001b[0m \u001b[43m        \u001b[49m\u001b[43mrequest\u001b[49m\u001b[43m,\u001b[49m\n\u001b[0;32m    944\u001b[0m \u001b[43m        \u001b[49m\u001b[43mfollow_redirects\u001b[49m\u001b[38;5;241;43m=\u001b[39;49m\u001b[43mfollow_redirects\u001b[49m\u001b[43m,\u001b[49m\n\u001b[0;32m    945\u001b[0m \u001b[43m        \u001b[49m\u001b[43mhistory\u001b[49m\u001b[38;5;241;43m=\u001b[39;49m\u001b[43mhistory\u001b[49m\u001b[43m,\u001b[49m\n\u001b[0;32m    946\u001b[0m \u001b[43m    \u001b[49m\u001b[43m)\u001b[49m\n\u001b[0;32m    947\u001b[0m     \u001b[38;5;28;01mtry\u001b[39;00m:\n\u001b[0;32m    948\u001b[0m         \u001b[38;5;28;01mtry\u001b[39;00m:\n",
      "File \u001b[1;32mc:\\Users\\Ariq\\anaconda3\\envs\\TugasAkhir\\lib\\site-packages\\httpx\\_client.py:979\u001b[0m, in \u001b[0;36mClient._send_handling_redirects\u001b[1;34m(self, request, follow_redirects, history)\u001b[0m\n\u001b[0;32m    976\u001b[0m \u001b[38;5;28;01mfor\u001b[39;00m hook \u001b[38;5;129;01min\u001b[39;00m \u001b[38;5;28mself\u001b[39m\u001b[38;5;241m.\u001b[39m_event_hooks[\u001b[38;5;124m\"\u001b[39m\u001b[38;5;124mrequest\u001b[39m\u001b[38;5;124m\"\u001b[39m]:\n\u001b[0;32m    977\u001b[0m     hook(request)\n\u001b[1;32m--> 979\u001b[0m response \u001b[38;5;241m=\u001b[39m \u001b[38;5;28;43mself\u001b[39;49m\u001b[38;5;241;43m.\u001b[39;49m\u001b[43m_send_single_request\u001b[49m\u001b[43m(\u001b[49m\u001b[43mrequest\u001b[49m\u001b[43m)\u001b[49m\n\u001b[0;32m    980\u001b[0m \u001b[38;5;28;01mtry\u001b[39;00m:\n\u001b[0;32m    981\u001b[0m     \u001b[38;5;28;01mfor\u001b[39;00m hook \u001b[38;5;129;01min\u001b[39;00m \u001b[38;5;28mself\u001b[39m\u001b[38;5;241m.\u001b[39m_event_hooks[\u001b[38;5;124m\"\u001b[39m\u001b[38;5;124mresponse\u001b[39m\u001b[38;5;124m\"\u001b[39m]:\n",
      "File \u001b[1;32mc:\\Users\\Ariq\\anaconda3\\envs\\TugasAkhir\\lib\\site-packages\\httpx\\_client.py:1014\u001b[0m, in \u001b[0;36mClient._send_single_request\u001b[1;34m(self, request)\u001b[0m\n\u001b[0;32m   1009\u001b[0m     \u001b[38;5;28;01mraise\u001b[39;00m \u001b[38;5;167;01mRuntimeError\u001b[39;00m(\n\u001b[0;32m   1010\u001b[0m         \u001b[38;5;124m\"\u001b[39m\u001b[38;5;124mAttempted to send an async request with a sync Client instance.\u001b[39m\u001b[38;5;124m\"\u001b[39m\n\u001b[0;32m   1011\u001b[0m     )\n\u001b[0;32m   1013\u001b[0m \u001b[38;5;28;01mwith\u001b[39;00m request_context(request\u001b[38;5;241m=\u001b[39mrequest):\n\u001b[1;32m-> 1014\u001b[0m     response \u001b[38;5;241m=\u001b[39m \u001b[43mtransport\u001b[49m\u001b[38;5;241;43m.\u001b[39;49m\u001b[43mhandle_request\u001b[49m\u001b[43m(\u001b[49m\u001b[43mrequest\u001b[49m\u001b[43m)\u001b[49m\n\u001b[0;32m   1016\u001b[0m \u001b[38;5;28;01massert\u001b[39;00m \u001b[38;5;28misinstance\u001b[39m(response\u001b[38;5;241m.\u001b[39mstream, SyncByteStream)\n\u001b[0;32m   1018\u001b[0m response\u001b[38;5;241m.\u001b[39mrequest \u001b[38;5;241m=\u001b[39m request\n",
      "File \u001b[1;32mc:\\Users\\Ariq\\anaconda3\\envs\\TugasAkhir\\lib\\site-packages\\httpx\\_transports\\default.py:250\u001b[0m, in \u001b[0;36mHTTPTransport.handle_request\u001b[1;34m(self, request)\u001b[0m\n\u001b[0;32m    237\u001b[0m req \u001b[38;5;241m=\u001b[39m httpcore\u001b[38;5;241m.\u001b[39mRequest(\n\u001b[0;32m    238\u001b[0m     method\u001b[38;5;241m=\u001b[39mrequest\u001b[38;5;241m.\u001b[39mmethod,\n\u001b[0;32m    239\u001b[0m     url\u001b[38;5;241m=\u001b[39mhttpcore\u001b[38;5;241m.\u001b[39mURL(\n\u001b[1;32m   (...)\u001b[0m\n\u001b[0;32m    247\u001b[0m     extensions\u001b[38;5;241m=\u001b[39mrequest\u001b[38;5;241m.\u001b[39mextensions,\n\u001b[0;32m    248\u001b[0m )\n\u001b[0;32m    249\u001b[0m \u001b[38;5;28;01mwith\u001b[39;00m map_httpcore_exceptions():\n\u001b[1;32m--> 250\u001b[0m     resp \u001b[38;5;241m=\u001b[39m \u001b[38;5;28;43mself\u001b[39;49m\u001b[38;5;241;43m.\u001b[39;49m\u001b[43m_pool\u001b[49m\u001b[38;5;241;43m.\u001b[39;49m\u001b[43mhandle_request\u001b[49m\u001b[43m(\u001b[49m\u001b[43mreq\u001b[49m\u001b[43m)\u001b[49m\n\u001b[0;32m    252\u001b[0m \u001b[38;5;28;01massert\u001b[39;00m \u001b[38;5;28misinstance\u001b[39m(resp\u001b[38;5;241m.\u001b[39mstream, typing\u001b[38;5;241m.\u001b[39mIterable)\n\u001b[0;32m    254\u001b[0m \u001b[38;5;28;01mreturn\u001b[39;00m Response(\n\u001b[0;32m    255\u001b[0m     status_code\u001b[38;5;241m=\u001b[39mresp\u001b[38;5;241m.\u001b[39mstatus,\n\u001b[0;32m    256\u001b[0m     headers\u001b[38;5;241m=\u001b[39mresp\u001b[38;5;241m.\u001b[39mheaders,\n\u001b[0;32m    257\u001b[0m     stream\u001b[38;5;241m=\u001b[39mResponseStream(resp\u001b[38;5;241m.\u001b[39mstream),\n\u001b[0;32m    258\u001b[0m     extensions\u001b[38;5;241m=\u001b[39mresp\u001b[38;5;241m.\u001b[39mextensions,\n\u001b[0;32m    259\u001b[0m )\n",
      "File \u001b[1;32mc:\\Users\\Ariq\\anaconda3\\envs\\TugasAkhir\\lib\\site-packages\\httpcore\\_sync\\connection_pool.py:256\u001b[0m, in \u001b[0;36mConnectionPool.handle_request\u001b[1;34m(self, request)\u001b[0m\n\u001b[0;32m    253\u001b[0m         closing \u001b[38;5;241m=\u001b[39m \u001b[38;5;28mself\u001b[39m\u001b[38;5;241m.\u001b[39m_assign_requests_to_connections()\n\u001b[0;32m    255\u001b[0m     \u001b[38;5;28mself\u001b[39m\u001b[38;5;241m.\u001b[39m_close_connections(closing)\n\u001b[1;32m--> 256\u001b[0m     \u001b[38;5;28;01mraise\u001b[39;00m exc \u001b[38;5;28;01mfrom\u001b[39;00m\u001b[38;5;250m \u001b[39m\u001b[38;5;28;01mNone\u001b[39;00m\n\u001b[0;32m    258\u001b[0m \u001b[38;5;66;03m# Return the response. Note that in this case we still have to manage\u001b[39;00m\n\u001b[0;32m    259\u001b[0m \u001b[38;5;66;03m# the point at which the response is closed.\u001b[39;00m\n\u001b[0;32m    260\u001b[0m \u001b[38;5;28;01massert\u001b[39;00m \u001b[38;5;28misinstance\u001b[39m(response\u001b[38;5;241m.\u001b[39mstream, typing\u001b[38;5;241m.\u001b[39mIterable)\n",
      "File \u001b[1;32mc:\\Users\\Ariq\\anaconda3\\envs\\TugasAkhir\\lib\\site-packages\\httpcore\\_sync\\connection_pool.py:236\u001b[0m, in \u001b[0;36mConnectionPool.handle_request\u001b[1;34m(self, request)\u001b[0m\n\u001b[0;32m    232\u001b[0m connection \u001b[38;5;241m=\u001b[39m pool_request\u001b[38;5;241m.\u001b[39mwait_for_connection(timeout\u001b[38;5;241m=\u001b[39mtimeout)\n\u001b[0;32m    234\u001b[0m \u001b[38;5;28;01mtry\u001b[39;00m:\n\u001b[0;32m    235\u001b[0m     \u001b[38;5;66;03m# Send the request on the assigned connection.\u001b[39;00m\n\u001b[1;32m--> 236\u001b[0m     response \u001b[38;5;241m=\u001b[39m \u001b[43mconnection\u001b[49m\u001b[38;5;241;43m.\u001b[39;49m\u001b[43mhandle_request\u001b[49m\u001b[43m(\u001b[49m\n\u001b[0;32m    237\u001b[0m \u001b[43m        \u001b[49m\u001b[43mpool_request\u001b[49m\u001b[38;5;241;43m.\u001b[39;49m\u001b[43mrequest\u001b[49m\n\u001b[0;32m    238\u001b[0m \u001b[43m    \u001b[49m\u001b[43m)\u001b[49m\n\u001b[0;32m    239\u001b[0m \u001b[38;5;28;01mexcept\u001b[39;00m ConnectionNotAvailable:\n\u001b[0;32m    240\u001b[0m     \u001b[38;5;66;03m# In some cases a connection may initially be available to\u001b[39;00m\n\u001b[0;32m    241\u001b[0m     \u001b[38;5;66;03m# handle a request, but then become unavailable.\u001b[39;00m\n\u001b[0;32m    242\u001b[0m     \u001b[38;5;66;03m#\u001b[39;00m\n\u001b[0;32m    243\u001b[0m     \u001b[38;5;66;03m# In this case we clear the connection and try again.\u001b[39;00m\n\u001b[0;32m    244\u001b[0m     pool_request\u001b[38;5;241m.\u001b[39mclear_connection()\n",
      "File \u001b[1;32mc:\\Users\\Ariq\\anaconda3\\envs\\TugasAkhir\\lib\\site-packages\\httpcore\\_sync\\connection.py:101\u001b[0m, in \u001b[0;36mHTTPConnection.handle_request\u001b[1;34m(self, request)\u001b[0m\n\u001b[0;32m     99\u001b[0m \u001b[38;5;28;01mexcept\u001b[39;00m \u001b[38;5;167;01mBaseException\u001b[39;00m \u001b[38;5;28;01mas\u001b[39;00m exc:\n\u001b[0;32m    100\u001b[0m     \u001b[38;5;28mself\u001b[39m\u001b[38;5;241m.\u001b[39m_connect_failed \u001b[38;5;241m=\u001b[39m \u001b[38;5;28;01mTrue\u001b[39;00m\n\u001b[1;32m--> 101\u001b[0m     \u001b[38;5;28;01mraise\u001b[39;00m exc\n\u001b[0;32m    103\u001b[0m \u001b[38;5;28;01mreturn\u001b[39;00m \u001b[38;5;28mself\u001b[39m\u001b[38;5;241m.\u001b[39m_connection\u001b[38;5;241m.\u001b[39mhandle_request(request)\n",
      "File \u001b[1;32mc:\\Users\\Ariq\\anaconda3\\envs\\TugasAkhir\\lib\\site-packages\\httpcore\\_sync\\connection.py:78\u001b[0m, in \u001b[0;36mHTTPConnection.handle_request\u001b[1;34m(self, request)\u001b[0m\n\u001b[0;32m     76\u001b[0m \u001b[38;5;28;01mwith\u001b[39;00m \u001b[38;5;28mself\u001b[39m\u001b[38;5;241m.\u001b[39m_request_lock:\n\u001b[0;32m     77\u001b[0m     \u001b[38;5;28;01mif\u001b[39;00m \u001b[38;5;28mself\u001b[39m\u001b[38;5;241m.\u001b[39m_connection \u001b[38;5;129;01mis\u001b[39;00m \u001b[38;5;28;01mNone\u001b[39;00m:\n\u001b[1;32m---> 78\u001b[0m         stream \u001b[38;5;241m=\u001b[39m \u001b[38;5;28;43mself\u001b[39;49m\u001b[38;5;241;43m.\u001b[39;49m\u001b[43m_connect\u001b[49m\u001b[43m(\u001b[49m\u001b[43mrequest\u001b[49m\u001b[43m)\u001b[49m\n\u001b[0;32m     80\u001b[0m         ssl_object \u001b[38;5;241m=\u001b[39m stream\u001b[38;5;241m.\u001b[39mget_extra_info(\u001b[38;5;124m\"\u001b[39m\u001b[38;5;124mssl_object\u001b[39m\u001b[38;5;124m\"\u001b[39m)\n\u001b[0;32m     81\u001b[0m         http2_negotiated \u001b[38;5;241m=\u001b[39m (\n\u001b[0;32m     82\u001b[0m             ssl_object \u001b[38;5;129;01mis\u001b[39;00m \u001b[38;5;129;01mnot\u001b[39;00m \u001b[38;5;28;01mNone\u001b[39;00m\n\u001b[0;32m     83\u001b[0m             \u001b[38;5;129;01mand\u001b[39;00m ssl_object\u001b[38;5;241m.\u001b[39mselected_alpn_protocol() \u001b[38;5;241m==\u001b[39m \u001b[38;5;124m\"\u001b[39m\u001b[38;5;124mh2\u001b[39m\u001b[38;5;124m\"\u001b[39m\n\u001b[0;32m     84\u001b[0m         )\n",
      "File \u001b[1;32mc:\\Users\\Ariq\\anaconda3\\envs\\TugasAkhir\\lib\\site-packages\\httpcore\\_sync\\connection.py:124\u001b[0m, in \u001b[0;36mHTTPConnection._connect\u001b[1;34m(self, request)\u001b[0m\n\u001b[0;32m    116\u001b[0m     kwargs \u001b[38;5;241m=\u001b[39m {\n\u001b[0;32m    117\u001b[0m         \u001b[38;5;124m\"\u001b[39m\u001b[38;5;124mhost\u001b[39m\u001b[38;5;124m\"\u001b[39m: \u001b[38;5;28mself\u001b[39m\u001b[38;5;241m.\u001b[39m_origin\u001b[38;5;241m.\u001b[39mhost\u001b[38;5;241m.\u001b[39mdecode(\u001b[38;5;124m\"\u001b[39m\u001b[38;5;124mascii\u001b[39m\u001b[38;5;124m\"\u001b[39m),\n\u001b[0;32m    118\u001b[0m         \u001b[38;5;124m\"\u001b[39m\u001b[38;5;124mport\u001b[39m\u001b[38;5;124m\"\u001b[39m: \u001b[38;5;28mself\u001b[39m\u001b[38;5;241m.\u001b[39m_origin\u001b[38;5;241m.\u001b[39mport,\n\u001b[1;32m   (...)\u001b[0m\n\u001b[0;32m    121\u001b[0m         \u001b[38;5;124m\"\u001b[39m\u001b[38;5;124msocket_options\u001b[39m\u001b[38;5;124m\"\u001b[39m: \u001b[38;5;28mself\u001b[39m\u001b[38;5;241m.\u001b[39m_socket_options,\n\u001b[0;32m    122\u001b[0m     }\n\u001b[0;32m    123\u001b[0m     \u001b[38;5;28;01mwith\u001b[39;00m Trace(\u001b[38;5;124m\"\u001b[39m\u001b[38;5;124mconnect_tcp\u001b[39m\u001b[38;5;124m\"\u001b[39m, logger, request, kwargs) \u001b[38;5;28;01mas\u001b[39;00m trace:\n\u001b[1;32m--> 124\u001b[0m         stream \u001b[38;5;241m=\u001b[39m \u001b[38;5;28mself\u001b[39m\u001b[38;5;241m.\u001b[39m_network_backend\u001b[38;5;241m.\u001b[39mconnect_tcp(\u001b[38;5;241m*\u001b[39m\u001b[38;5;241m*\u001b[39mkwargs)\n\u001b[0;32m    125\u001b[0m         trace\u001b[38;5;241m.\u001b[39mreturn_value \u001b[38;5;241m=\u001b[39m stream\n\u001b[0;32m    126\u001b[0m \u001b[38;5;28;01melse\u001b[39;00m:\n",
      "File \u001b[1;32mc:\\Users\\Ariq\\anaconda3\\envs\\TugasAkhir\\lib\\site-packages\\httpcore\\_backends\\sync.py:208\u001b[0m, in \u001b[0;36mSyncBackend.connect_tcp\u001b[1;34m(self, host, port, timeout, local_address, socket_options)\u001b[0m\n\u001b[0;32m    202\u001b[0m exc_map: ExceptionMapping \u001b[38;5;241m=\u001b[39m {\n\u001b[0;32m    203\u001b[0m     socket\u001b[38;5;241m.\u001b[39mtimeout: ConnectTimeout,\n\u001b[0;32m    204\u001b[0m     \u001b[38;5;167;01mOSError\u001b[39;00m: ConnectError,\n\u001b[0;32m    205\u001b[0m }\n\u001b[0;32m    207\u001b[0m \u001b[38;5;28;01mwith\u001b[39;00m map_exceptions(exc_map):\n\u001b[1;32m--> 208\u001b[0m     sock \u001b[38;5;241m=\u001b[39m \u001b[43msocket\u001b[49m\u001b[38;5;241;43m.\u001b[39;49m\u001b[43mcreate_connection\u001b[49m\u001b[43m(\u001b[49m\n\u001b[0;32m    209\u001b[0m \u001b[43m        \u001b[49m\u001b[43maddress\u001b[49m\u001b[43m,\u001b[49m\n\u001b[0;32m    210\u001b[0m \u001b[43m        \u001b[49m\u001b[43mtimeout\u001b[49m\u001b[43m,\u001b[49m\n\u001b[0;32m    211\u001b[0m \u001b[43m        \u001b[49m\u001b[43msource_address\u001b[49m\u001b[38;5;241;43m=\u001b[39;49m\u001b[43msource_address\u001b[49m\u001b[43m,\u001b[49m\n\u001b[0;32m    212\u001b[0m \u001b[43m    \u001b[49m\u001b[43m)\u001b[49m\n\u001b[0;32m    213\u001b[0m     \u001b[38;5;28;01mfor\u001b[39;00m option \u001b[38;5;129;01min\u001b[39;00m socket_options:\n\u001b[0;32m    214\u001b[0m         sock\u001b[38;5;241m.\u001b[39msetsockopt(\u001b[38;5;241m*\u001b[39moption)  \u001b[38;5;66;03m# pragma: no cover\u001b[39;00m\n",
      "File \u001b[1;32mc:\\Users\\Ariq\\anaconda3\\envs\\TugasAkhir\\lib\\socket.py:844\u001b[0m, in \u001b[0;36mcreate_connection\u001b[1;34m(address, timeout, source_address)\u001b[0m\n\u001b[0;32m    842\u001b[0m \u001b[38;5;28;01mif\u001b[39;00m source_address:\n\u001b[0;32m    843\u001b[0m     sock\u001b[38;5;241m.\u001b[39mbind(source_address)\n\u001b[1;32m--> 844\u001b[0m \u001b[43msock\u001b[49m\u001b[38;5;241;43m.\u001b[39;49m\u001b[43mconnect\u001b[49m\u001b[43m(\u001b[49m\u001b[43msa\u001b[49m\u001b[43m)\u001b[49m\n\u001b[0;32m    845\u001b[0m \u001b[38;5;66;03m# Break explicitly a reference cycle\u001b[39;00m\n\u001b[0;32m    846\u001b[0m err \u001b[38;5;241m=\u001b[39m \u001b[38;5;28;01mNone\u001b[39;00m\n",
      "\u001b[1;31mKeyboardInterrupt\u001b[0m: "
     ]
    }
   ],
   "source": [
    "def main():\n",
    "    load_dotenv()\n",
    "    # Load RAG_config.json\n",
    "    with open('../../../config/eval_configs_demo.json') as f:\n",
    "        configs = json.load(f)\n",
    "    \n",
    "    # Load dataset untuk evaluasi\n",
    "    eval_dataset = load_evaluation_dataset('../../../data/evaluation_dataset_demo.csv')\n",
    "\n",
    "    # Mengambil URL dan API key untuk terhubung ke Qdrant\n",
    "    url = os.getenv(\"QDRANT_URL\")\n",
    "    api_key = os.getenv(\"QDRANT_API_KEY\")\n",
    "\n",
    "    answer_duration = {\n",
    "        \"config\": [],\n",
    "        \"duration\": []\n",
    "    }\n",
    "\n",
    "    for config in configs:\n",
    "        if config['answer_finished'] == False:\n",
    "            config_name = config[\"name\"]\n",
    "            collection_name = config[\"collection\"]\n",
    "            embedding_model_name = config[\"embedding_model\"]\n",
    "            llm_name = config[\"llm_model\"]\n",
    "            is_hyde = config[\"hyde\"]\n",
    "            print(f\"Generating answer for {config_name}\")\n",
    "            print(f\"Collection      : {collection_name}\")\n",
    "            print(f\"Embedding Model : {embedding_model_name}\")\n",
    "            print(f\"LLM Model       : {llm_name}\")\n",
    "            print(f\"HyDE            : {is_hyde}\\n------------------------------------------------------------\")\n",
    "\n",
    "            start_time = time.time()\n",
    "            \n",
    "            answer_json = generate_answer_dataset(url, api_key, collection_name, embedding_model_name, llm_name, eval_dataset, hyde=is_hyde)\n",
    "            file_name = f\"answer_{config_name}_demo.json\"\n",
    "            with open(f'../../../data/{file_name}', 'w') as f:\n",
    "                json.dump(answer_json, f, indent=4)\n",
    "            \n",
    "            config['answer_finished'] = True\n",
    "            with open(f'../../../config/eval_configs_demo.json', 'w') as f:\n",
    "                json.dump(configs, f, indent=4)\n",
    "\n",
    "            end_time = time.time()\n",
    "\n",
    "            duration = end_time - start_time\n",
    "\n",
    "            print(f\"Answer saved to '{file_name}'. Duration: {duration:.2f} seconds\\n\")\n",
    "            \n",
    "            # Simpan durasi evaluasi ke dalam dictionary\n",
    "            answer_duration[\"config\"].append(config_name)\n",
    "            answer_duration[\"duration\"].append(duration)  \n",
    "\n",
    "            # Simpan durasi evaluasi ke dalam file CSV\n",
    "            duration_df = pd.DataFrame(answer_duration)\n",
    "            duration_df.to_csv(f'../../../data/answer_duration_{config_name}_demo.csv', index=False)\n",
    "\n",
    "main()"
   ]
  },
  {
   "cell_type": "code",
   "execution_count": null,
   "metadata": {},
   "outputs": [],
   "source": [
    "url = os.getenv(\"QDRANT_URL\")\n",
    "api_key = os.getenv(\"QDRANT_API_KEY\")\n",
    "collection_name = \"cvd_collection_v1\"\n",
    "# collection_name = \"cvd_collection_v2\"\n",
    "\n",
    "embedding_model_name = \"nomic-embed-text\"\n",
    "# embedding_model_name = \"mxbai-embed-large\"\n",
    "llm_name = \"llama3.1\"\n",
    "\n",
    "query = \"Apa saja hal yang dapat menyebabkan jantung berdebar?\"\n",
    "topic = \"Jantung Berdebar\""
   ]
  },
  {
   "cell_type": "markdown",
   "metadata": {},
   "source": [
    "# RAG Evaluation"
   ]
  },
  {
   "cell_type": "code",
   "execution_count": 59,
   "metadata": {},
   "outputs": [],
   "source": [
    "def evaluate_answers(config_name, llm_name, embedding_name, hyde=False):\n",
    "    \"\"\"\n",
    "    Args:\n",
    "        config_name (str): Name of the configuration to be evaluated.\n",
    "        llm_name (str): Name of the LLM model to be used for evaluation.\n",
    "        embedding_name (str): Name of the embedding model to be used for evaluation.\n",
    "        hyde (bool): Whether to use HyDE or not.\n",
    "    \n",
    "    Returns:\n",
    "        None\n",
    "    \"\"\"\n",
    "\n",
    "    # Load jawaban dari file JSON\n",
    "    file_path = f'../../../data/answer_{config_name}_demo.json'\n",
    "    with open(file_path) as f:\n",
    "        answer_dataset = json.load(f)\n",
    "\n",
    "    load_dotenv()\n",
    "    # Instansiasi LLM dan embeddings\n",
    "    llm = ChatOpenAI(model=llm_name, openai_api_key=os.getenv(\"OPENAI_API_KEY\"))\n",
    "    embeddings = LangchainEmbeddingsWrapper(OpenAIEmbeddings(model=embedding_name, openai_api_key=os.getenv(\"OPENAI_API_KEY\")))\n",
    "    \n",
    "    # Evaluasi jawaban\n",
    "    eval_results = {\n",
    "        \"question\": [],\n",
    "        \"ground_truth\": [],\n",
    "        \"retrieved_contexts\": [],\n",
    "        \"answer\": []\n",
    "    }\n",
    "\n",
    "    if hyde:\n",
    "        eval_results[\"hypothesis\"] = []\n",
    "\n",
    "    eval_results[\"faithfulness\"] = []\n",
    "    eval_results[\"answer_relevancy\"] = []\n",
    "    eval_results[\"context_precision\"] = []\n",
    "    eval_results[\"context_recall\"] = []\n",
    "\n",
    "    # Mengambil informasi index terakhir dari hasil evaluasi sebelumnya\n",
    "    # Jika file CSV tidak ada, maka mulai dari index 0\n",
    "    # Hal ini agar evaluasi tidak terulang dari awal jika sudah pernah dievaluasi sebelumnya\n",
    "    try:\n",
    "        df = pd.read_csv(f'../../../data/evaluation_result_{config_name}_demo.csv')\n",
    "        last_idx = len(df)\n",
    "    except FileNotFoundError:\n",
    "        last_idx = 0\n",
    "\n",
    "    # Ubah jawaban menjadi format Dataset dari Hugging Face\n",
    "    for i in range(len(answer_dataset[\"answer\"])):\n",
    "        if i >= last_idx:\n",
    "            # Print the progress\n",
    "            print(f\"Evaluating row {i + 1}/{len(answer_dataset['answer'])}\", flush=True, end=\"\\r\")\n",
    "            answer_row = {\n",
    "                \"question\": [answer_dataset[\"question\"][i]],\n",
    "                \"ground_truth\": [answer_dataset[\"ground_truth\"][i]],\n",
    "                \"retrieved_contexts\": [answer_dataset[\"retrieved_contexts\"][i]],\n",
    "                \"answer\": [answer_dataset[\"answer\"][i]],\n",
    "            }\n",
    "\n",
    "            if hyde:\n",
    "                answer_row[\"hypothesis\"] = [answer_dataset[\"hypothesis\"][i]]\n",
    "\n",
    "            # Melakukan penilaian terhadap jawaban dan konteks yang diambil\n",
    "            dataset = Dataset.from_dict(answer_row)\n",
    "            score = evaluate(\n",
    "                dataset,\n",
    "                metrics=[\n",
    "                    faithfulness,\n",
    "                    answer_relevancy,\n",
    "                    context_precision,\n",
    "                    context_recall\n",
    "                ],\n",
    "                llm=llm,\n",
    "                embeddings=embeddings,\n",
    "            )\n",
    "\n",
    "            # Memasukkan hasil evaluasi ke dalam eval_results\n",
    "            eval_results[\"question\"].append(answer_dataset[\"question\"][i])\n",
    "            eval_results[\"ground_truth\"].append(answer_dataset[\"ground_truth\"][i])\n",
    "            eval_results[\"retrieved_contexts\"].append(answer_dataset[\"retrieved_contexts\"][i])\n",
    "            eval_results[\"answer\"].append(answer_dataset[\"answer\"][i])\n",
    "\n",
    "            if hyde:\n",
    "                eval_results[\"hypothesis\"].append(answer_dataset[\"hypothesis\"][i])\n",
    "            \n",
    "            eval_results[\"faithfulness\"].append(score['faithfulness'][0])\n",
    "            eval_results[\"answer_relevancy\"].append(score['answer_relevancy'][0])\n",
    "            eval_results[\"context_precision\"].append(score['context_precision'][0])\n",
    "            eval_results[\"context_recall\"].append(score['context_recall'][0])\n",
    "\n",
    "            # Simpan hasil evaluasi ke dalam file CSV\n",
    "            # Hal ini dilakukan tiap iterasi untuk menghindari kehilangan data jika terjadi kesalahan\n",
    "            df = pd.DataFrame(eval_results)\n",
    "\n",
    "            df = df.applymap(lambda x: str(x).replace('\\n', '\\\\n'))\n",
    "\n",
    "            df.to_csv(f'../../../data/evaluation_result_{config_name}_demo.csv', index=False, sep=',')"
   ]
  },
  {
   "cell_type": "code",
   "execution_count": 61,
   "metadata": {},
   "outputs": [
    {
     "name": "stdout",
     "output_type": "stream",
     "text": [
      "Evaluating combination_4\n",
      "Collection      : cvd_collection_v2\n",
      "Embedding Model : mxbai-embed-large\n",
      "LLM Model       : deepseek-v2\n",
      "HyDE            : False\n",
      "------------------------------------------------------------\n",
      "Evaluating row 2/2\r"
     ]
    },
    {
     "data": {
      "application/vnd.jupyter.widget-view+json": {
       "model_id": "aebb1bf4fa1545b689deb0c41e1bba50",
       "version_major": 2,
       "version_minor": 0
      },
      "text/plain": [
       "Evaluating:   0%|          | 0/4 [00:00<?, ?it/s]"
      ]
     },
     "metadata": {},
     "output_type": "display_data"
    },
    {
     "name": "stdout",
     "output_type": "stream",
     "text": [
      "Evaluation result saved to 'evaluation_result_combination_4_demo.csv'.\n",
      "\n"
     ]
    }
   ],
   "source": [
    "def main():\n",
    "    load_dotenv()\n",
    "    # Load RAG_config.json\n",
    "    with open('../../../config/eval_configs_demo.json') as f:\n",
    "        configs = json.load(f)\n",
    "\n",
    "    # Instansiasi nama LLM dan embeddings\n",
    "    llm_eval = \"gpt-4o-mini\"\n",
    "    embedding_eval = \"text-embedding-3-small\"\n",
    "\n",
    "    for config in configs:\n",
    "        if config['eval_finished'] == False:\n",
    "            config_name = config[\"name\"]\n",
    "            collection_name = config[\"collection\"]\n",
    "            embedding_model_name = config[\"embedding_model\"]\n",
    "            llm_name = config[\"llm_model\"]\n",
    "            is_hyde = config[\"hyde\"]\n",
    "            print(f\"Evaluating {config_name}\")\n",
    "            print(f\"Collection      : {collection_name}\")\n",
    "            print(f\"Embedding Model : {embedding_model_name}\")\n",
    "            print(f\"LLM Model       : {llm_name}\")\n",
    "            print(f\"HyDE            : {is_hyde}\\n------------------------------------------------------------\")\n",
    "\n",
    "            evaluate_answers(config_name, llm_eval, embedding_eval, hyde=is_hyde)\n",
    "            \n",
    "            file_name = f\"evaluation_result_{config_name}_demo.csv\"\n",
    "            \n",
    "            config['eval_finished'] = True\n",
    "            with open(f'../../../config/eval_configs_demo.json', 'w') as f:\n",
    "                json.dump(configs, f, indent=4)\n",
    "\n",
    "            print(f\"Evaluation result saved to '{file_name}'.\\n\")\n",
    "\n",
    "main()"
   ]
  },
  {
   "cell_type": "markdown",
   "metadata": {},
   "source": [
    "# RAGAS Evaluation"
   ]
  },
  {
   "cell_type": "code",
   "execution_count": 31,
   "metadata": {},
   "outputs": [
    {
     "data": {
      "text/plain": [
       "{'question': ['Apa hal-hal yang dapat menyebabkan penyakit hipertensi?',\n",
       "  'Apa saja gejala hipertensi?'],\n",
       " 'ground_truth': ['Hipertensi sekunder bisa disebabkan oleh sejumlah kondisi, yaitu:\\\\n\\\\nPenyakit ginjal\\\\nPenyakit kelenjar tiroid\\\\nTumor kelenjar adrenal\\\\nKelainan bawaan pada pembuluh darah\\\\nKecanduan alkohol\\\\nPenyalahgunaan NAPZA\\\\nGangguan pernapasan yang terjadi saat tidur (sleep apnea)\\\\nKonsumsi obat-obatan tertentu, seperti obat antiinflamasi nonsteroid (NSAID), obat batuk pilek, atau pil KB',\n",
       "  'Gejala yang dapat muncul pada kondisi tersebut adalah:\\\\n\\\\nMual dan muntah\\\\nSakit kepala\\\\nMimisan\\\\nSesak napas\\\\nNyeri dada\\\\nGangguan penglihatan\\\\nTelinga berdenging\\\\nGangguan irama jantung\\\\nDarah dalam urine'],\n",
       " 'retrieved_contexts': [['Topik: Hipertensi, Subtopik: Penyebab Hipertensi \\n Hipertensi dibagi menjadi hipertensi primer dan sekunder. Hipertensi primer berkembang selama bertahun-tahun dan tidak diketahui penyebabnya secara pasti. Hipertensi primer merupakan jenis hipertensi yang paling sering terjadi.\\nBerbeda dengan hipertensi primer, hipertensi sekunder bisa disebabkan oleh sejumlah kondisi, yaitu:\\n- Penyakit ginjal\\n- Penyakit kelenjar tiroid\\n- Tumor kelenjar adrenal\\n- Kelainan bawaan pada pembuluh darah\\n- Kecanduan alkohol\\n- Penyalahgunaan NAPZA\\n- Gangguan pernapasan yang terjadi saat tidur (sleep apnea)\\n- Konsumsi obat-obatan tertentu, seperti obat antiinflamasi nonsteroid (NSAID), obat batuk pilek, atau pil KB\\n',\n",
       "   'Topik: Hipertensi, Subtopik: Penyebab Hipertensi: Faktor Risiko Hipertensi \\n Ada beberapa faktor yang bisa meningkatkan risiko seseorang terserang hipertensi, yaitu:\\n- Berusia di atas 65 tahun\\n- Sedang hamil\\n- Jarang berolahraga dan jarang melakukan aktivitas fisik\\n- Kurang mengonsumsi makanan yang mengandung kalium\\n- Memiliki keluarga dengan riwayat tekanan darah tinggi\\n- Menderita obesitas, sleep apnea, diabetes, atau penyakit ginjal\\n- Mengonsumsi terlalu banyak makanan tinggi garam\\n- Mengonsumsi terlalu banyak kafein\\n- Memiliki kebiasaan merokok dan mengonsumsi minuman beralkohol\\n',\n",
       "   'Topik: Hipertensi, Subtopik: Pengertian Hipertensi \\n Hipertensi atau darah tinggi adalah kondisi ketika tekanan darah berada pada angka 130/80 mmHg atau lebih. Jika tidak segera ditangani, hipertensi bisa menyebabkan komplikasi serius, seperti gagal jantung, penyakit ginjal, hingga stroke.\\nTekanan darah dinyatakan dalam dua nilai angka yang dipisahkan dengan garis miring atau yang biasanya disebut  per  . Angka di awal, yaitu di sebelah kiri garis miring menandakan tekanan sistolik. Ini adalah tekanan di dalam pembuluh darah ketika jantung berkontraksi untuk memompa darah keluar dari jantung.\\n\\nAngka di akhir yang berada setelah garis miring menandakan tekanan diastolik, yaitu tekanan darah saat jantung berelaksasi dan menyedot atau menerima darah masuk kembali ke dalam jantung.\\nPada kondisi normal, tekanan darah orang dewasa adalah 120/80 mmHg. Artinya, tekanan sistoliknya adalah 120 mmHg dan diastoliknya 80 mmHG.\\nTekanan darah tinggi yang terjadi terus-menerus dapat membuat jantung bekerja lebih keras untuk memompa darah ke seluruh tubuh. Kondisi ini lama-kelamaan bisa membuat jantung membesar, merusak pembuluh darah, dan membuat ginjal tidak bisa bekerja dengan baik.\\nOleh karena itu, hipertensi perlu segera ditangani. Setelah tekanan darah kembali normal pun, perlu terus dilakukan pemantauan dan bahkan penggunaan obat rutin agar tekanan darah selalu terkontrol.\\n'],\n",
       "  ['Topik: Hipertensi, Subtopik: Gejala Hipertensi \\n Hipertensi merupakan penyakit yang berbahaya, karena bisa terjadi tanpa gejala. Bahkan, pada beberapa kasus, gejalanya baru muncul setelah hipertensi makin parah dan sampai mengancam nyawa. Gejala yang dapat muncul pada kondisi tersebut adalah:\\n- Mual dan muntah\\n- Sakit kepala\\n- Mimisan\\n- Sesak napas\\n- Nyeri dada\\n- Gangguan penglihatan\\n- Telinga berdenging\\n- Gangguan irama jantung\\n- Darah dalam urine\\n',\n",
       "   'Topik: Hipertensi, Subtopik: Gejala Hipertensi: Kapan Harus ke Dokter \\n Pada beberapa kasus, hipertensi dapat menjadi kondisi gawat darurat yang membutuhkan penanganan dengan segera. Hal ini terjadi ketika tekanan darah naik dengan cepat dan terlalu tinggi.\\nSegera ke dokter jika tekanan darah Anda telah mencapai angka 180/120 atau lebih. Anda juga perlu segera ke dokter jika mengalami gejala yang dapat menjadi pertanda kerusakan organ, yaitu:\\n- Sesak napas\\n- Nyeri dada\\n- Sulit berbicara\\n- Sakit kepala yang parah\\n- Mati rasa\\n- Lemas\\n- Gangguan penglihatan\\n',\n",
       "   'Topik: Hipertensi, Subtopik: Pengertian Hipertensi \\n Hipertensi atau darah tinggi adalah kondisi ketika tekanan darah berada pada angka 130/80 mmHg atau lebih. Jika tidak segera ditangani, hipertensi bisa menyebabkan komplikasi serius, seperti gagal jantung, penyakit ginjal, hingga stroke.\\nTekanan darah dinyatakan dalam dua nilai angka yang dipisahkan dengan garis miring atau yang biasanya disebut  per  . Angka di awal, yaitu di sebelah kiri garis miring menandakan tekanan sistolik. Ini adalah tekanan di dalam pembuluh darah ketika jantung berkontraksi untuk memompa darah keluar dari jantung.\\n\\nAngka di akhir yang berada setelah garis miring menandakan tekanan diastolik, yaitu tekanan darah saat jantung berelaksasi dan menyedot atau menerima darah masuk kembali ke dalam jantung.\\nPada kondisi normal, tekanan darah orang dewasa adalah 120/80 mmHg. Artinya, tekanan sistoliknya adalah 120 mmHg dan diastoliknya 80 mmHG.\\nTekanan darah tinggi yang terjadi terus-menerus dapat membuat jantung bekerja lebih keras untuk memompa darah ke seluruh tubuh. Kondisi ini lama-kelamaan bisa membuat jantung membesar, merusak pembuluh darah, dan membuat ginjal tidak bisa bekerja dengan baik.\\nOleh karena itu, hipertensi perlu segera ditangani. Setelah tekanan darah kembali normal pun, perlu terus dilakukan pemantauan dan bahkan penggunaan obat rutin agar tekanan darah selalu terkontrol.\\n']],\n",
       " 'answer': ['Penyebab hipertensi terbagi dalam dua jenis, yaitu hipertensi primer dan sekunder. Hipertensi primer adalah jenis hipertensi yang paling sering terjadi dan berkembang selama bertahun-tahun. Sementara itu, hipertensi sekunder bisa disebabkan oleh sejumlah kondisi, seperti:\\n\\n1.  Penyakit ginjal\\n2.  Penyakit kelenjar tiroid\\n3.  Tumor kelenjar adrenal\\n4.  Kelainan bawaan pada pembuluh darah\\n5.  Kecanduan alkohol\\n6.  Penyalahgunaan NAPZA (alkohol dan zat-zat berbahaya lainnya)\\n7.  Gangguan pernapasan yang terjadi saat tidur (sleep apnea)\\n8.  Konsumsi obat-obatan tertentu, seperti obat antiinflamasi nonsteroid (NSAID), obat batuk pilek, atau pil KB.\\n\\nFaktor-faktor lainnya yang dapat meningkatkan risiko seseorang terserang hipertensi adalah:\\n\\n1.  Berusia di atas 65 tahun\\n2.  Sedang hamil\\n3.  Jarang berolahraga dan jarang melakukan aktivitas fisik\\n4.  Kurang mengonsumsi makanan yang mengandung kalium\\n5.  Memiliki keluarga dengan riwayat tekanan darah tinggi\\n6.  Menderita obesitas, sleep apnea, diabetes, atau penyakit ginjal\\n7.  Mengonsumsi terlalu banyak makanan tinggi garam\\n8.  Mengonsumsi terlalu banyak kafein\\n9.  Memiliki kebiasaan merokok dan mengonsumsi minuman beralkohol',\n",
       "  'Gejala hipertensi dapat bervariasi tergantung pada individu dan kondisi kesehatan mereka. Namun, beberapa gejala umum yang mungkin dialami oleh orang dengan hipertensi adalah:\\n\\n1.  Mual dan muntah: Tekanan darah tinggi dapat menyebabkan perubahan dalam sistem saraf otak yang dapat menyebabkan gejala seperti mual dan muntah.\\n2.  Sakit kepala: Hipertensi dapat menyebabkan tekanan pada pembuluh darah di otak, yang dapat menyebabkan sakit kepala.\\n3.  Mimisan: Tekanan darah tinggi dapat menyebabkan perubahan dalam sistem vaskular yang dapat menyebabkan gejala seperti mimisan.\\n4.  Sesak napas: Hipertensi dapat menyebabkan kerusakan pada jantung dan paru-paru, yang dapat menyebabkan gejala seperti sesak napas.\\n5.  Nyeri dada: Tekanan darah tinggi dapat menyebabkan perubahan dalam sistem kardiovaskular yang dapat menyebabkan gejala seperti nyeri dada.\\n6.  Gangguan penglihatan: Hipertensi dapat menyebabkan kerusakan pada pembuluh darah di mata, yang dapat menyebabkan gejala seperti gangguan penglihatan.\\n7.  Telinga berdenging: Tekanan darah tinggi dapat menyebabkan perubahan dalam sistem saraf otak yang dapat menyebabkan gejala seperti telinga berdenging.\\n8.  Gangguan irama jantung: Hipertensi dapat menyebabkan kerusakan pada jantung, yang dapat menyebabkan gejala seperti gangguan irama jantung.\\n9.  Darah dalam urine: Tekanan darah tinggi dapat menyebabkan perubahan dalam sistem ginjal yang dapat menyebabkan gejala seperti darah dalam urine.\\n\\nPerlu diingat bahwa beberapa orang mungkin tidak menunjukkan gejala-gejala ini, dan hipertensi dapat terjadi tanpa gejala apa pun. Oleh karena itu, sangat penting untuk melakukan pemeriksaan tekanan darah secara teratur untuk mendeteksi kondisi ini sebelumnya.']}"
      ]
     },
     "execution_count": 31,
     "metadata": {},
     "output_type": "execute_result"
    }
   ],
   "source": [
    "# open answer_combination_1.json\n",
    "with open('../../../data/answer_combination_1.json') as f:\n",
    "    eval_dict = json.load(f)\n",
    "\n",
    "# get the first row of eval_dict\n",
    "eval_dict = {\n",
    "    \"question\": eval_dict[\"question\"][:2],\n",
    "    \"ground_truth\": eval_dict[\"ground_truth\"][:2],\n",
    "    \"retrieved_contexts\": eval_dict[\"retrieved_contexts\"][:2],\n",
    "    \"answer\": eval_dict[\"answer\"][:2],\n",
    "}\n",
    "\n",
    "eval_dict"
   ]
  },
  {
   "cell_type": "code",
   "execution_count": 32,
   "metadata": {},
   "outputs": [],
   "source": [
    "# save eval_dict as answer_combination_4_demo.json\n",
    "with open('../../../data/answer_combination_4_demo.json', 'w') as f:\n",
    "    json.dump(eval_dict, f, indent=4)"
   ]
  },
  {
   "cell_type": "code",
   "execution_count": 26,
   "metadata": {},
   "outputs": [
    {
     "data": {
      "text/plain": [
       "Dataset({\n",
       "    features: ['question', 'ground_truth', 'retrieved_contexts', 'answer'],\n",
       "    num_rows: 1\n",
       "})"
      ]
     },
     "execution_count": 26,
     "metadata": {},
     "output_type": "execute_result"
    }
   ],
   "source": [
    "eval_dataset = Dataset.from_dict(eval_dict)\n",
    "\n",
    "eval_dataset"
   ]
  },
  {
   "cell_type": "code",
   "execution_count": null,
   "metadata": {},
   "outputs": [],
   "source": [
    "load_dotenv()\n",
    "evaluator_llm = ChatOpenAI(model=\"gpt-4o-mini\", openai_api_key=os.getenv(\"OPENAI_API_KEY\"))\n",
    "\n",
    "evaluator_embeddings = LangchainEmbeddingsWrapper(OpenAIEmbeddings(model=\"text-embedding-3-small\", openai_api_key=os.getenv(\"OPENAI_API_KEY\")))"
   ]
  },
  {
   "cell_type": "code",
   "execution_count": 28,
   "metadata": {},
   "outputs": [
    {
     "data": {
      "application/vnd.jupyter.widget-view+json": {
       "model_id": "f2a9a60a1fd74ac8b44af06523b06254",
       "version_major": 2,
       "version_minor": 0
      },
      "text/plain": [
       "Evaluating:   0%|          | 0/4 [00:00<?, ?it/s]"
      ]
     },
     "metadata": {},
     "output_type": "display_data"
    }
   ],
   "source": [
    "score = evaluate(eval_dataset, metrics=[faithfulness, answer_relevancy, context_precision, context_recall], llm=evaluator_llm, embeddings=evaluator_embeddings)"
   ]
  },
  {
   "cell_type": "code",
   "execution_count": 29,
   "metadata": {},
   "outputs": [
    {
     "data": {
      "text/plain": [
       "{'faithfulness': 1.0000, 'answer_relevancy': 0.5505, 'context_precision': 1.0000, 'context_recall': 1.0000}"
      ]
     },
     "execution_count": 29,
     "metadata": {},
     "output_type": "execute_result"
    }
   ],
   "source": [
    "score"
   ]
  },
  {
   "cell_type": "code",
   "execution_count": 48,
   "metadata": {},
   "outputs": [
    {
     "data": {
      "text/plain": [
       "ragas.dataset_schema.EvaluationResult"
      ]
     },
     "execution_count": 48,
     "metadata": {},
     "output_type": "execute_result"
    }
   ],
   "source": [
    "type(score)"
   ]
  },
  {
   "cell_type": "code",
   "execution_count": 53,
   "metadata": {},
   "outputs": [
    {
     "data": {
      "text/plain": [
       "1.0"
      ]
     },
     "execution_count": 53,
     "metadata": {},
     "output_type": "execute_result"
    }
   ],
   "source": [
    "score['faithfulness'][0]"
   ]
  },
  {
   "cell_type": "code",
   "execution_count": 5,
   "metadata": {},
   "outputs": [],
   "source": [
    "# merged from answer_duration_1_demo.csv to answer_duration_8_demo.csv\n",
    "with open('../../../config/eval_configs.json') as f:\n",
    "    configs = json.load(f)\n",
    "\n",
    "answer_duration = {\n",
    "    \"config\": [],\n",
    "    \"collection\": [],\n",
    "    \"embedding_model\": [],\n",
    "    \"llm_model\": [],\n",
    "    \"hyde\": [],\n",
    "    \"duration\": []\n",
    "}\n",
    "\n",
    "configs_fix_time = ['combination_6', 'combination_7', 'combination_8']\n",
    "\n",
    "for config in configs:\n",
    "    config_name = config[\"name\"]\n",
    "    collection_name = config[\"collection\"]\n",
    "    embedding_model_name = config[\"embedding_model\"]\n",
    "    llm_name = config[\"llm_model\"]\n",
    "    is_hyde = config[\"hyde\"]\n",
    "\n",
    "        \n",
    "    \n",
    "    # open \n",
    "    df = pd.read_csv(f'../../../data/answer_duration_{config_name}.csv')\n",
    "    duration = df[\"duration\"].values[0]\n",
    "\n",
    "    if config_name not in configs_fix_time:\n",
    "        duration -= 3000\n",
    "\n",
    "    answer_duration[\"config\"].append(config_name)\n",
    "    answer_duration[\"collection\"].append(collection_name)\n",
    "    answer_duration[\"embedding_model\"].append(embedding_model_name)\n",
    "    answer_duration[\"llm_model\"].append(llm_name)\n",
    "    answer_duration[\"hyde\"].append(is_hyde)\n",
    "    answer_duration[\"duration\"].append(duration)\n",
    "\n",
    "# save to csv\n",
    "answer_duration_df = pd.DataFrame(answer_duration)\n",
    "answer_duration_df.to_csv(f'../../../data/answer_duration.csv', index=False, sep=',')"
   ]
  },
  {
   "cell_type": "code",
   "execution_count": null,
   "metadata": {},
   "outputs": [],
   "source": [
    "# generator_llm = LangchainLLMWrapper(OllamaLLM(model=\"llama3.2\", temperature=0.4))\n",
    "\n",
    "# generator_embeddings = LangchainEmbeddingsWrapper(OllamaEmbeddings(model=\"nomic-embed-text\"))"
   ]
  }
 ],
 "metadata": {
  "kernelspec": {
   "display_name": "Python 3",
   "language": "python",
   "name": "python3"
  },
  "language_info": {
   "codemirror_mode": {
    "name": "ipython",
    "version": 3
   },
   "file_extension": ".py",
   "mimetype": "text/x-python",
   "name": "python",
   "nbconvert_exporter": "python",
   "pygments_lexer": "ipython3",
   "version": "3.9.21"
  }
 },
 "nbformat": 4,
 "nbformat_minor": 2
}
