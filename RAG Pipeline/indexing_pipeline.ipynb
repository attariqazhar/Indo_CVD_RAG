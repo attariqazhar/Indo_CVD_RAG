{
 "cells": [
  {
   "cell_type": "markdown",
   "metadata": {},
   "source": [
    "# Import Library"
   ]
  },
  {
   "cell_type": "code",
   "execution_count": 1,
   "metadata": {},
   "outputs": [],
   "source": [
    "import os\n",
    "import json\n",
    "import pandas as pd\n",
    "from dotenv import load_dotenv\n",
    "from uuid import uuid4\n",
    "\n",
    "# Vector DB\n",
    "from qdrant_client import QdrantClient\n",
    "from qdrant_client.http.models import Distance, VectorParams, PointStruct\n",
    "from langchain_core.documents import Document\n",
    "\n",
    "# Embedding Model\n",
    "from langchain_ollama import OllamaEmbeddings"
   ]
  },
  {
   "cell_type": "markdown",
   "metadata": {},
   "source": [
    "# Document Preparation"
   ]
  },
  {
   "cell_type": "code",
   "execution_count": 2,
   "metadata": {},
   "outputs": [],
   "source": [
    "def get_json_document(file_path):\n",
    "    '''\n",
    "    Args:\n",
    "        file_path (str): Path to the JSON file containing the data\n",
    "    \n",
    "    Returns:\n",
    "        data (dict): JSON data\n",
    "    '''\n",
    "\n",
    "    with open(file_path) as f:\n",
    "        data = json.load(f)\n",
    "    return data\n",
    "\n",
    "def get_documents(data):\n",
    "    '''\n",
    "    Args:\n",
    "        data (dict): JSON data\n",
    "\n",
    "    Returns:\n",
    "        documents (list): List of Document objects\n",
    "    '''\n",
    "\n",
    "    documents = []\n",
    "\n",
    "    for item in data:\n",
    "        doc = Document(\n",
    "            page_content=item['content'],\n",
    "            metadata={\n",
    "                \"id\": str(uuid4()),\n",
    "                \"topic\": item['topic'],\n",
    "                \"subtopic\": item['subtopic'],\n",
    "                \"source\": item['url'],\n",
    "                \"vector\": []\n",
    "            }\n",
    "        )\n",
    "        documents.append(doc)\n",
    "    return documents  \n"
   ]
  },
  {
   "cell_type": "markdown",
   "metadata": {},
   "source": [
    "# Store Document to Qdrant"
   ]
  },
  {
   "cell_type": "markdown",
   "metadata": {},
   "source": [
    "### Embedding Model"
   ]
  },
  {
   "cell_type": "code",
   "execution_count": 3,
   "metadata": {},
   "outputs": [],
   "source": [
    "def get_embedding_model(model_name):\n",
    "    '''\n",
    "    Args:\n",
    "        model_name (str): Name of the model to be used for embeddings\n",
    "    \n",
    "    Returns:\n",
    "        embeddings: Embedding model object\n",
    "    '''\n",
    "\n",
    "    embeddings = OllamaEmbeddings(\n",
    "        model=model_name\n",
    "    )\n",
    "    return embeddings\n",
    "\n",
    "def encode_text(embeddings, text):\n",
    "    '''\n",
    "    Args:\n",
    "        embeddings (OllamaEmbeddings): Embedding model object\n",
    "        text (str): Text to be encoded\n",
    "\n",
    "    Returns:\n",
    "        np.array: Encoded vector for the input text\n",
    "    '''\n",
    "    \n",
    "    return embeddings.embed_query(text)\n",
    "\n",
    "def add_vector(documents, embeddings):\n",
    "    '''\n",
    "    Args:\n",
    "        documents (list): List of Document objects\n",
    "\n",
    "    Returns:\n",
    "        documents (list): List of Document objects with vectors added\n",
    "    '''\n",
    "\n",
    "    for doc in documents:\n",
    "        doc.metadata['vector'] = encode_text(embeddings, doc.page_content)\n",
    "    return documents\n",
    "\n",
    "\n",
    "def get_documents_with_vector(data, model_name):\n",
    "    '''\n",
    "    Args:\n",
    "        data (dict): JSON data\n",
    "\n",
    "    Returns:\n",
    "        documents (list): List of Document objects with vectors added\n",
    "    '''\n",
    "\n",
    "    documents = get_documents(data)\n",
    "    embeddings = get_embedding_model(model_name)\n",
    "    documents = add_vector(documents, embeddings)\n",
    "    return documents"
   ]
  },
  {
   "cell_type": "markdown",
   "metadata": {},
   "source": [
    "### Creating Database"
   ]
  },
  {
   "cell_type": "code",
   "execution_count": 4,
   "metadata": {},
   "outputs": [],
   "source": [
    "def instantiate_database(collection_name):\n",
    "    '''\n",
    "    Returns:\n",
    "        client (QdrantClient): QdrantClient object\n",
    "    '''\n",
    "    load_dotenv(override=True)\n",
    "    client = QdrantClient(url=os.getenv(\"QDRANT_URL\"), api_key=os.getenv(\"QDRANT_API_KEY\"))\n",
    "\n",
    "    client.create_collection(\n",
    "        collection_name=collection_name,\n",
    "        vectors_config=VectorParams(size=768, distance=Distance.COSINE),\n",
    "    )\n",
    "\n",
    "    return client"
   ]
  },
  {
   "cell_type": "markdown",
   "metadata": {},
   "source": [
    "### Store Text and Vector to Database"
   ]
  },
  {
   "cell_type": "code",
   "execution_count": 5,
   "metadata": {},
   "outputs": [],
   "source": [
    "def add_document(client, collection_name, doc):\n",
    "    '''\n",
    "    Args:\n",
    "        client (QdrantVectorStore): Vector store object\n",
    "        collection_name (str): Name of the collection to store the documents in\n",
    "        documents (list): List of Document objects\n",
    "    '''\n",
    "    metadata = {\n",
    "        'topic': doc.metadata['topic'],\n",
    "        'subtopic': doc.metadata['subtopic'],\n",
    "        'source': doc.metadata['source']\n",
    "    }\n",
    "    client.upsert(\n",
    "        collection_name=collection_name,\n",
    "        points=[PointStruct(id=doc.metadata['id'], vector=doc.metadata['vector'], payload={\"text\": doc.page_content, \"metadata\": metadata})]\n",
    "    )\n",
    "\n",
    "def store_documents(client, collection_name, documents):\n",
    "    '''\n",
    "    Args:\n",
    "        client (QdrantVectorStore): Vector store object\n",
    "        collection_name (str): Name of the collection to store the documents in\n",
    "        documents (list): List of Document objects\n",
    "    '''\n",
    "    for doc in documents:\n",
    "        add_document(client, collection_name, doc)\n",
    "    print(\"Documents stored successfully\")\n",
    "        "
   ]
  },
  {
   "cell_type": "markdown",
   "metadata": {},
   "source": [
    "### Indexing Pipeline"
   ]
  },
  {
   "cell_type": "code",
   "execution_count": 6,
   "metadata": {},
   "outputs": [],
   "source": [
    "def indexing_pipeline(file_path, model_name, collection_name):\n",
    "    '''\n",
    "    Args:\n",
    "        file_path (str): Path to the JSON file containing the data\n",
    "\n",
    "    Returns:\n",
    "        None\n",
    "    '''\n",
    "    data = get_json_document(file_path)\n",
    "\n",
    "    # Get documents with vectors and IDs\n",
    "    documents = get_documents_with_vector(data, model_name)\n",
    "\n",
    "    # Instantiate the database\n",
    "    client = instantiate_database(collection_name)\n",
    "    \n",
    "    # Store the documents to the database\n",
    "    store_documents(client, collection_name, documents)"
   ]
  },
  {
   "cell_type": "code",
   "execution_count": 7,
   "metadata": {},
   "outputs": [
    {
     "name": "stdout",
     "output_type": "stream",
     "text": [
      "Documents stored successfully\n"
     ]
    }
   ],
   "source": [
    "file_path='../data/cvd_prepared.json'\n",
    "model_name='nomic-embed-text'\n",
    "collection_name = 'cvd_collection' \n",
    "\n",
    "indexing_pipeline(file_path, model_name, collection_name)"
   ]
  }
 ],
 "metadata": {
  "kernelspec": {
   "display_name": "Python 3",
   "language": "python",
   "name": "python3"
  },
  "language_info": {
   "codemirror_mode": {
    "name": "ipython",
    "version": 3
   },
   "file_extension": ".py",
   "mimetype": "text/x-python",
   "name": "python",
   "nbconvert_exporter": "python",
   "pygments_lexer": "ipython3",
   "version": "3.9.19"
  }
 },
 "nbformat": 4,
 "nbformat_minor": 2
}
