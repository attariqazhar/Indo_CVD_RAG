{
 "cells": [
  {
   "cell_type": "markdown",
   "metadata": {},
   "source": [
    "# Import Library"
   ]
  },
  {
   "cell_type": "code",
   "execution_count": 1,
   "metadata": {},
   "outputs": [],
   "source": [
    "import json\n",
    "import pandas as pd"
   ]
  },
  {
   "cell_type": "markdown",
   "metadata": {},
   "source": [
    "# Data Preparation Functions"
   ]
  },
  {
   "cell_type": "markdown",
   "metadata": {},
   "source": [
    "### Data Gathering"
   ]
  },
  {
   "cell_type": "code",
   "execution_count": 2,
   "metadata": {},
   "outputs": [],
   "source": [
    "def read_json(file_path):\n",
    "    with open(file_path) as f:\n",
    "        data = json.load(f)\n",
    "    return data\n",
    "\n",
    "def load_json_to_dataframe(file_path):        \n",
    "    topics = []\n",
    "    subtopics = []\n",
    "    contents = []\n",
    "    urls = []\n",
    "\n",
    "    data = read_json(file_path)\n",
    "\n",
    "    for item in data:\n",
    "        for subtopic in item['subtopics']:\n",
    "            topics.append(item['topic'])\n",
    "            subtopics.append(subtopic['subtopic'])\n",
    "            contents.append(subtopic['content'])\n",
    "            urls.append(subtopic['subtopic_url'])\n",
    "\n",
    "    df = pd.DataFrame({'topic': topics,'subtopic': subtopics,'content': contents,'url': urls})\n",
    "    # df.to_csv('data/cvd.csv', index=False)\n",
    "    return df"
   ]
  },
  {
   "cell_type": "markdown",
   "metadata": {},
   "source": [
    "### Text Cleaning"
   ]
  },
  {
   "cell_type": "code",
   "execution_count": 3,
   "metadata": {},
   "outputs": [],
   "source": [
    "def get_cleaned_text_data(df):\n",
    "    df_prepared = df.copy()\n",
    "\n",
    "    for index, row in df_prepared.iterrows():\n",
    "        try:\n",
    "            topic = row['topic'].encode(\"latin1\").decode(\"utf-8\")\n",
    "        except:\n",
    "            topic = row['topic'].replace('\\u00a0', ' ')\n",
    "        try:\n",
    "            subtopic = row['subtopic'].encode(\"latin1\").decode(\"utf-8\")\n",
    "        except:\n",
    "            subtopic = row['subtopic'].replace('\\u00a0', ' ')\n",
    "        try:\n",
    "            content = row['content'].encode(\"latin1\").decode(\"utf-8\")\n",
    "        except:\n",
    "            content = row['content'].replace('\\u00a0', ' ')\n",
    "        # print(row['content'])\n",
    "        # content = row['content'].replace('\\u00a0', '').encode(\"latin1\").decode(\"utf-8\")\n",
    "        df_prepared.loc[index, 'topic'] = topic\n",
    "        df_prepared.loc[index, 'subtopic'] = subtopic\n",
    "        df_prepared.loc[index, 'content'] = content\n",
    "    return df_prepared\n",
    "\n",
    "def get_prepared_content_page(df):\n",
    "    df_prepared = df.copy()\n",
    "    df_prepared['content'] = 'Topik: ' + df_prepared['topic'] + ', Subtopik: ' + df_prepared['subtopic'] + ' \\n ' + df_prepared['content']\n",
    "    return df_prepared\n",
    "\n",
    "def get_prepared_data(df):\n",
    "    df_prepared = get_cleaned_text_data(df)\n",
    "    df_prepared = get_prepared_content_page(df_prepared)\n",
    "    return df_prepared"
   ]
  },
  {
   "cell_type": "code",
   "execution_count": 5,
   "metadata": {},
   "outputs": [
    {
     "data": {
      "text/html": [
       "<div>\n",
       "<style scoped>\n",
       "    .dataframe tbody tr th:only-of-type {\n",
       "        vertical-align: middle;\n",
       "    }\n",
       "\n",
       "    .dataframe tbody tr th {\n",
       "        vertical-align: top;\n",
       "    }\n",
       "\n",
       "    .dataframe thead th {\n",
       "        text-align: right;\n",
       "    }\n",
       "</style>\n",
       "<table border=\"1\" class=\"dataframe\">\n",
       "  <thead>\n",
       "    <tr style=\"text-align: right;\">\n",
       "      <th></th>\n",
       "      <th>topic</th>\n",
       "      <th>subtopic</th>\n",
       "      <th>content</th>\n",
       "      <th>url</th>\n",
       "    </tr>\n",
       "  </thead>\n",
       "  <tbody>\n",
       "    <tr>\n",
       "      <th>0</th>\n",
       "      <td>Hipertensi</td>\n",
       "      <td>Pengertian Hipertensi</td>\n",
       "      <td>Topik: Hipertensi, Subtopik: Pengertian Hipert...</td>\n",
       "      <td>https://www.alodokter.com/hipertensi</td>\n",
       "    </tr>\n",
       "    <tr>\n",
       "      <th>1</th>\n",
       "      <td>Hipertensi</td>\n",
       "      <td>Penyebab Hipertensi</td>\n",
       "      <td>Topik: Hipertensi, Subtopik: Penyebab Hiperten...</td>\n",
       "      <td>https://www.alodokter.com/hipertensi/penyebab</td>\n",
       "    </tr>\n",
       "    <tr>\n",
       "      <th>2</th>\n",
       "      <td>Hipertensi</td>\n",
       "      <td>Penyebab Hipertensi: Faktor Risiko Hipertensi</td>\n",
       "      <td>Topik: Hipertensi, Subtopik: Penyebab Hiperten...</td>\n",
       "      <td>https://www.alodokter.com/hipertensi/penyebab</td>\n",
       "    </tr>\n",
       "    <tr>\n",
       "      <th>3</th>\n",
       "      <td>Hipertensi</td>\n",
       "      <td>Gejala Hipertensi</td>\n",
       "      <td>Topik: Hipertensi, Subtopik: Gejala Hipertensi...</td>\n",
       "      <td>https://www.alodokter.com/hipertensi/gejala</td>\n",
       "    </tr>\n",
       "    <tr>\n",
       "      <th>4</th>\n",
       "      <td>Hipertensi</td>\n",
       "      <td>Gejala Hipertensi: Kapan Harus ke Dokter</td>\n",
       "      <td>Topik: Hipertensi, Subtopik: Gejala Hipertensi...</td>\n",
       "      <td>https://www.alodokter.com/hipertensi/gejala</td>\n",
       "    </tr>\n",
       "  </tbody>\n",
       "</table>\n",
       "</div>"
      ],
      "text/plain": [
       "        topic                                       subtopic  \\\n",
       "0  Hipertensi                          Pengertian Hipertensi   \n",
       "1  Hipertensi                            Penyebab Hipertensi   \n",
       "2  Hipertensi  Penyebab Hipertensi: Faktor Risiko Hipertensi   \n",
       "3  Hipertensi                              Gejala Hipertensi   \n",
       "4  Hipertensi       Gejala Hipertensi: Kapan Harus ke Dokter   \n",
       "\n",
       "                                             content  \\\n",
       "0  Topik: Hipertensi, Subtopik: Pengertian Hipert...   \n",
       "1  Topik: Hipertensi, Subtopik: Penyebab Hiperten...   \n",
       "2  Topik: Hipertensi, Subtopik: Penyebab Hiperten...   \n",
       "3  Topik: Hipertensi, Subtopik: Gejala Hipertensi...   \n",
       "4  Topik: Hipertensi, Subtopik: Gejala Hipertensi...   \n",
       "\n",
       "                                             url  \n",
       "0           https://www.alodokter.com/hipertensi  \n",
       "1  https://www.alodokter.com/hipertensi/penyebab  \n",
       "2  https://www.alodokter.com/hipertensi/penyebab  \n",
       "3    https://www.alodokter.com/hipertensi/gejala  \n",
       "4    https://www.alodokter.com/hipertensi/gejala  "
      ]
     },
     "execution_count": 5,
     "metadata": {},
     "output_type": "execute_result"
    }
   ],
   "source": [
    "df = load_json_to_dataframe('../data/cvd.json')\n",
    "df_prepared = get_prepared_data(df)\n",
    "\n",
    "df_prepared.head()"
   ]
  },
  {
   "cell_type": "markdown",
   "metadata": {},
   "source": [
    "### Data Saving"
   ]
  },
  {
   "cell_type": "code",
   "execution_count": 6,
   "metadata": {},
   "outputs": [],
   "source": [
    "# save to json\n",
    "with open('../data/cvd_prepared.json', 'w') as f:\n",
    "    json.dump(df_prepared.to_dict('records'), f, indent=4)"
   ]
  }
 ],
 "metadata": {
  "kernelspec": {
   "display_name": "Python 3",
   "language": "python",
   "name": "python3"
  },
  "language_info": {
   "codemirror_mode": {
    "name": "ipython",
    "version": 3
   },
   "file_extension": ".py",
   "mimetype": "text/x-python",
   "name": "python",
   "nbconvert_exporter": "python",
   "pygments_lexer": "ipython3",
   "version": "3.9.19"
  }
 },
 "nbformat": 4,
 "nbformat_minor": 2
}
